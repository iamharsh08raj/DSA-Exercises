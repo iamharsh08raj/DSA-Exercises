{
  "nbformat": 4,
  "nbformat_minor": 0,
  "metadata": {
    "colab": {
      "provenance": [],
      "authorship_tag": "ABX9TyMnWbdvfWOU3hr2oRoDdrDW",
      "include_colab_link": true
    },
    "kernelspec": {
      "name": "python3",
      "display_name": "Python 3"
    },
    "language_info": {
      "name": "python"
    }
  },
  "cells": [
    {
      "cell_type": "markdown",
      "metadata": {
        "id": "view-in-github",
        "colab_type": "text"
      },
      "source": [
        "<a href=\"https://colab.research.google.com/github/iamharsh08raj/DSA-Exercises/blob/main/2D_Arrays3.ipynb\" target=\"_parent\"><img src=\"https://colab.research.google.com/assets/colab-badge.svg\" alt=\"Open In Colab\"/></a>"
      ]
    },
    {
      "cell_type": "markdown",
      "source": [
        "A permutation perm of n + 1 integers of all the integers in the range [0, n] can be represented as a string s of length n where:\n",
        "\n",
        "- s[i] == 'I' if perm[i] < perm[i + 1], and\n",
        "- s[i] == 'D' if perm[i] > perm[i + 1].\n",
        "\n",
        "Given a string s, reconstruct the permutation perm and return it. If there are multiple valid permutations perm, return **any of them**.\n",
        "\n",
        "**Example 1:**\n",
        "\n",
        "**Input:** s = \"IDID\"\n",
        "\n",
        "**Output:**\n",
        "\n",
        "[0,4,1,3,2]"
      ],
      "metadata": {
        "id": "9PeyVCKLDRYD"
      }
    },
    {
      "cell_type": "code",
      "source": [
        "def findPermutation(s):\n",
        "    n = len(s)\n",
        "    perm = []\n",
        "    start, end = 1, n\n",
        "\n",
        "    for ch in s:\n",
        "        if ch == 'I':\n",
        "            perm.append(start)\n",
        "            start += 1\n",
        "        elif ch == 'D':\n",
        "            perm.append(end)\n",
        "            end -= 1\n",
        "\n",
        "    perm.append(start)\n",
        "\n",
        "    return perm\n",
        "\n",
        "# Test the function\n",
        "s = \"IDID\"\n",
        "result = findPermutation(s)\n",
        "print(\"Output:\", result)\n"
      ],
      "metadata": {
        "id": "Zutz0FUVDRlm"
      },
      "execution_count": null,
      "outputs": []
    },
    {
      "cell_type": "markdown",
      "source": [
        "You are given an m x n integer matrix matrix with the following two properties:\n",
        "\n",
        "- Each row is sorted in non-decreasing order.\n",
        "- The first integer of each row is greater than the last integer of the previous row.\n",
        "\n",
        "Given an integer target, return true *if* target *is in* matrix *or* false *otherwise*.\n",
        "\n",
        "You must write a solution in O(log(m * n)) time complexity.\n",
        "\n",
        "**Example 1:**\n",
        "**Input:** matrix = [[1,3,5,7],[10,11,16,20],[23,30,34,60]], target = 3\n",
        "\n",
        "**Output:** true"
      ],
      "metadata": {
        "id": "xVyquGNUDRx7"
      }
    },
    {
      "cell_type": "code",
      "source": [
        "def searchMatrix(matrix, target):\n",
        "    m, n = len(matrix), len(matrix[0])\n",
        "    left, right = 0, m * n - 1\n",
        "\n",
        "    while left <= right:\n",
        "        mid = (left + right) // 2\n",
        "        row = mid // n\n",
        "        col = mid % n\n",
        "\n",
        "        if matrix[row][col] == target:\n",
        "            return True\n",
        "        elif matrix[row][col] < target:\n",
        "            left = mid + 1\n",
        "        else:\n",
        "            right = mid - 1\n",
        "\n",
        "    return False\n",
        "\n",
        "# Test the function\n",
        "matrix = [[1, 3, 5, 7], [10, 11, 16, 20], [23, 30, 34, 60]]\n",
        "target = 3\n",
        "result = searchMatrix(matrix, target)\n",
        "print(\"Output:\", result)\n"
      ],
      "metadata": {
        "colab": {
          "base_uri": "https://localhost:8080/"
        },
        "id": "RjRwKcRRDR_t",
        "outputId": "af9816b6-9494-4a45-fdf3-863400ac33ed"
      },
      "execution_count": 1,
      "outputs": [
        {
          "output_type": "stream",
          "name": "stdout",
          "text": [
            "Output: True\n"
          ]
        }
      ]
    },
    {
      "cell_type": "markdown",
      "source": [
        "Given an array of integers arr, return *true if and only if it is a valid mountain array*.\n",
        "\n",
        "Recall that arr is a mountain array if and only if:\n",
        "\n",
        "- arr.length >= 3\n",
        "- There exists some i with 0 < i < arr.length - 1 such that:\n",
        "    - arr[0] < arr[1] < ... < arr[i - 1] < arr[i]\n",
        "    - arr[i] > arr[i + 1] > ... > arr[arr.length - 1]\n",
        "    **Example 1:**\n",
        "\n",
        "**Input:** arr = [2,1]\n",
        "\n",
        "**Output:**\n",
        "\n",
        "false"
      ],
      "metadata": {
        "id": "eN2dqM0qDSMR"
      }
    },
    {
      "cell_type": "code",
      "source": [
        "def validMountainArray(arr):\n",
        "    if len(arr) < 3:\n",
        "        return False\n",
        "\n",
        "    i = 0\n",
        "    while i < len(arr) - 1 and arr[i] < arr[i + 1]:\n",
        "        i += 1\n",
        "\n",
        "    if i == 0 or i == len(arr) - 1:\n",
        "        return False\n",
        "\n",
        "    while i < len(arr) - 1 and arr[i] > arr[i + 1]:\n",
        "        i += 1\n",
        "\n",
        "    return i == len(arr) - 1\n",
        "\n",
        "# Test the function\n",
        "arr = [2, 1]\n",
        "result = validMountainArray(arr)\n",
        "print(\"Output:\", result)\n"
      ],
      "metadata": {
        "colab": {
          "base_uri": "https://localhost:8080/"
        },
        "id": "iAOlaovEDSd9",
        "outputId": "9ff65fc6-3ebd-4fc0-c7d6-154d88027f6c"
      },
      "execution_count": 2,
      "outputs": [
        {
          "output_type": "stream",
          "name": "stdout",
          "text": [
            "Output: False\n"
          ]
        }
      ]
    },
    {
      "cell_type": "markdown",
      "source": [
        "Given a binary array nums, return *the maximum length of a contiguous subarray with an equal number of* 0 *and* 1.\n",
        "\n",
        "**Example 1:**\n",
        "\n",
        "**Input:** nums = [0,1]\n",
        "\n",
        "**Output:** 2\n",
        "\n",
        "**Explanation:**\n",
        "\n",
        "[0, 1] is the longest contiguous subarray with an equal number of 0 and 1."
      ],
      "metadata": {
        "id": "LuQmYWR1DSsh"
      }
    },
    {
      "cell_type": "code",
      "source": [
        "def findMaxLength(nums):\n",
        "    max_length = 0\n",
        "    count = 0\n",
        "    prefix_sums = {0: -1}\n",
        "\n",
        "    for i in range(len(nums)):\n",
        "        if nums[i] == 0:\n",
        "            count += 1\n",
        "        else:\n",
        "            count -= 1\n",
        "\n",
        "        if count == 0:\n",
        "            max_length = max(max_length, i + 1)\n",
        "        elif count in prefix_sums:\n",
        "            max_length = max(max_length, i - prefix_sums[count])\n",
        "\n",
        "        if count not in prefix_sums:\n",
        "            prefix_sums[count] = i\n",
        "\n",
        "    return max_length\n",
        "\n",
        "# Test the function\n",
        "nums = [0, 1]\n",
        "result = findMaxLength(nums)\n",
        "print(\"Output:\", result)\n"
      ],
      "metadata": {
        "colab": {
          "base_uri": "https://localhost:8080/"
        },
        "id": "MxqvgQowDS50",
        "outputId": "7c9f9266-7f8f-4441-8f43-03f3ce5f11cf"
      },
      "execution_count": 3,
      "outputs": [
        {
          "output_type": "stream",
          "name": "stdout",
          "text": [
            "Output: 2\n"
          ]
        }
      ]
    },
    {
      "cell_type": "markdown",
      "source": [
        "The **product sum** of two equal-length arrays a and b is equal to the sum of a[i] * b[i] for all 0 <= i < a.length (**0-indexed**).\n",
        "\n",
        "- For example, if a = [1,2,3,4] and b = [5,2,3,1], the **product sum** would be 1*5 + 2*2 + 3*3 + 4*1 = 22.\n",
        "\n",
        "Given two arrays nums1 and nums2 of length n, return *the **minimum product sum** if you are allowed to **rearrange** the **order** of the elements in* nums1.\n",
        "\n",
        "**Example 1:**\n",
        "\n",
        "**Input:** nums1 = [5,3,4,2], nums2 = [4,2,2,5]\n",
        "\n",
        "**Output:** 40\n",
        "\n",
        "**Explanation:**\n",
        "\n",
        "We can rearrange nums1 to become [3,5,4,2]. The product sum of [3,5,4,2] and [4,2,2,5] is 3*4 + 5*2 + 4*2 + 2*5 = 40."
      ],
      "metadata": {
        "id": "ISg4BBL9DTMw"
      }
    },
    {
      "cell_type": "code",
      "source": [
        "def minProductSum(nums1, nums2):\n",
        "    nums1.sort()\n",
        "    nums2.sort(reverse=True)\n",
        "\n",
        "    min_product_sum = 0\n",
        "    for i in range(len(nums1)):\n",
        "        min_product_sum += nums1[i] * nums2[i]\n",
        "\n",
        "    return min_product_sum\n",
        "\n",
        "# Test the function\n",
        "nums1 = [5, 3, 4, 2]\n",
        "nums2 = [4, 2, 2, 5]\n",
        "result = minProductSum(nums1, nums2)\n",
        "print(\"Output:\", result)\n"
      ],
      "metadata": {
        "colab": {
          "base_uri": "https://localhost:8080/"
        },
        "id": "XyoT5rAWDTae",
        "outputId": "e5a6743f-8dbb-40ac-a8f4-fd616cb9755f"
      },
      "execution_count": 4,
      "outputs": [
        {
          "output_type": "stream",
          "name": "stdout",
          "text": [
            "Output: 40\n"
          ]
        }
      ]
    },
    {
      "cell_type": "markdown",
      "source": [
        "An integer array original is transformed into a **doubled** array changed by appending **twice the value** of every element in original, and then randomly **shuffling** the resulting array.\n",
        "\n",
        "Given an array changed, return original *if* changed *is a **doubled** array. If* changed *is not a **doubled** array, return an empty array. The elements in* original *may be returned in **any** order*.\n",
        "\n",
        "**Example 1:**\n",
        "\n",
        "**Input:** changed = [1,3,4,2,6,8]\n",
        "\n",
        "**Output:** [1,3,4]\n",
        "\n",
        "**Explanation:** One possible original array could be [1,3,4]:\n",
        "\n",
        "- Twice the value of 1 is 1 * 2 = 2.\n",
        "- Twice the value of 3 is 3 * 2 = 6.\n",
        "- Twice the value of 4 is 4 * 2 = 8.\n",
        "\n",
        "Other original arrays could be [4,3,1] or [3,1,4]."
      ],
      "metadata": {
        "id": "L5pzL6gbDTnU"
      }
    },
    {
      "cell_type": "code",
      "source": [
        "def findOriginalArray(changed):\n",
        "    count = {}\n",
        "    for num in changed:\n",
        "        count[num] = count.get(num, 0) + 1\n",
        "\n",
        "    original = []\n",
        "    for num in changed:\n",
        "        if count[num] == 0 or num / 2 not in count:\n",
        "            return []\n",
        "        original.append(num // 2)\n",
        "        count[num] -= 1\n",
        "\n",
        "    return original\n",
        "\n",
        "# Test the function\n",
        "changed = [1, 3, 4, 2, 6, 8]\n",
        "result = findOriginalArray(changed)\n",
        "print(\"Output:\", result)\n"
      ],
      "metadata": {
        "colab": {
          "base_uri": "https://localhost:8080/"
        },
        "id": "nzFA9ikkDT1i",
        "outputId": "3d98ebb6-6b13-44fe-b01a-3aa18155ff1b"
      },
      "execution_count": 5,
      "outputs": [
        {
          "output_type": "stream",
          "name": "stdout",
          "text": [
            "Output: []\n"
          ]
        }
      ]
    },
    {
      "cell_type": "markdown",
      "source": [
        "Given a positive integer n, generate an n x n matrix filled with elements from 1 to n2 in spiral order.\n",
        "\n",
        "**Example 1:**\n",
        "**Input:** n = 3\n",
        "\n",
        "**Output:** [[1,2,3],[8,9,4],[7,6,5]]"
      ],
      "metadata": {
        "id": "shEEUtaiDUCG"
      }
    },
    {
      "cell_type": "code",
      "source": [
        "def generateMatrix(n):\n",
        "    matrix = [[0] * n for _ in range(n)]\n",
        "    top, bottom, left, right = 0, n - 1, 0, n - 1\n",
        "    num = 1\n",
        "\n",
        "    while True:\n",
        "        # Fill top row\n",
        "        for j in range(left, right + 1):\n",
        "            matrix[top][j] = num\n",
        "            num += 1\n",
        "        top += 1\n",
        "\n",
        "        if num > n * n:\n",
        "            break\n",
        "\n",
        "        # Fill rightmost column\n",
        "        for i in range(top, bottom + 1):\n",
        "            matrix[i][right] = num\n",
        "            num += 1\n",
        "        right -= 1\n",
        "\n",
        "        if num > n * n:\n",
        "            break\n",
        "\n",
        "        # Fill bottom row\n",
        "        for j in range(right, left - 1, -1):\n",
        "            matrix[bottom][j] = num\n",
        "            num += 1\n",
        "        bottom -= 1\n",
        "\n",
        "        if num > n * n:\n",
        "            break\n",
        "\n",
        "        # Fill leftmost column\n",
        "        for i in range(bottom, top - 1, -1):\n",
        "            matrix[i][left] = num\n",
        "            num += 1\n",
        "        left += 1\n",
        "\n",
        "    return matrix\n",
        "\n",
        "# Test the function\n",
        "n = 3\n",
        "result = generateMatrix(n)\n",
        "print(\"Output:\", result)\n"
      ],
      "metadata": {
        "colab": {
          "base_uri": "https://localhost:8080/"
        },
        "id": "7QhcdG6RDURE",
        "outputId": "a49a3ce0-a315-43c9-ba43-a9ac98a4d010"
      },
      "execution_count": 6,
      "outputs": [
        {
          "output_type": "stream",
          "name": "stdout",
          "text": [
            "Output: [[1, 2, 3], [8, 9, 4], [7, 6, 5]]\n"
          ]
        }
      ]
    },
    {
      "cell_type": "markdown",
      "source": [
        "Given two [sparse matrices] mat1 of size m x k and mat2 of size k x n, return the result of mat1 x mat2. You may assume that multiplication is always possible.\n",
        "\n",
        "**Example 1:**\n",
        "**Input:** mat1 = [[1,0,0],[-1,0,3]], mat2 = [[7,0,0],[0,0,0],[0,0,1]]\n",
        "\n",
        "**Output:**\n",
        "\n",
        "[[7,0,0],[-7,0,3]]"
      ],
      "metadata": {
        "id": "9U7mI7BjDUiP"
      }
    },
    {
      "cell_type": "code",
      "source": [
        "def multiply(mat1, mat2):\n",
        "    m, k = len(mat1), len(mat1[0])\n",
        "    k2, n = len(mat2), len(mat2[0])\n",
        "\n",
        "    result = [[0] * n for _ in range(m)]\n",
        "\n",
        "    for i in range(m):\n",
        "        for j in range(k):\n",
        "            if mat1[i][j] != 0:\n",
        "                for l in range(n):\n",
        "                    if mat2[j][l] != 0:\n",
        "                        result[i][l] += mat1[i][j] * mat2[j][l]\n",
        "\n",
        "    return result\n",
        "\n",
        "# Test the function\n",
        "mat1 = [[1, 0, 0], [-1, 0, 3]]\n",
        "mat2 = [[7, 0, 0], [0, 0, 0], [0, 0, 1]]\n",
        "result = multiply(mat1, mat2)\n",
        "print(\"Output:\", result)\n"
      ],
      "metadata": {
        "colab": {
          "base_uri": "https://localhost:8080/"
        },
        "id": "Sxmr-KKtDUwj",
        "outputId": "a7f4fbd6-4b99-4691-b351-8a9d3603ce9b"
      },
      "execution_count": 7,
      "outputs": [
        {
          "output_type": "stream",
          "name": "stdout",
          "text": [
            "Output: [[7, 0, 0], [-7, 0, 3]]\n"
          ]
        }
      ]
    }
  ]
}