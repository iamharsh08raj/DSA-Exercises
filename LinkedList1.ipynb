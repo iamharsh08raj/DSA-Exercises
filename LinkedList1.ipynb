{
  "nbformat": 4,
  "nbformat_minor": 0,
  "metadata": {
    "colab": {
      "provenance": [],
      "authorship_tag": "ABX9TyMFKeS14GkSf4yxNf7M3CDp",
      "include_colab_link": true
    },
    "kernelspec": {
      "name": "python3",
      "display_name": "Python 3"
    },
    "language_info": {
      "name": "python"
    }
  },
  "cells": [
    {
      "cell_type": "markdown",
      "metadata": {
        "id": "view-in-github",
        "colab_type": "text"
      },
      "source": [
        "<a href=\"https://colab.research.google.com/github/iamharsh08raj/DSA-Exercises/blob/main/LinkedList1.ipynb\" target=\"_parent\"><img src=\"https://colab.research.google.com/assets/colab-badge.svg\" alt=\"Open In Colab\"/></a>"
      ]
    },
    {
      "cell_type": "markdown",
      "source": [
        "Given two linked list of the same size, the task is to create a new linked list using those linked lists. The condition is that the greater node among both linked list will be added to the new linked list.\n",
        "\n",
        "**Examples:**\n",
        "Input: list1 = 5->2->3->8\n",
        "list2 = 1->7->4->5\n",
        "Output: New list = 5->7->4->8\n",
        "\n",
        "Input:list1 = 2->8->9->3\n",
        "list2 = 5->3->6->4\n",
        "Output: New list = 5->8->9->4"
      ],
      "metadata": {
        "id": "2NMZJm4_7vHu"
      }
    },
    {
      "cell_type": "code",
      "execution_count": 1,
      "metadata": {
        "colab": {
          "base_uri": "https://localhost:8080/"
        },
        "id": "F238nmC17qFK",
        "outputId": "28c7a2da-920f-4dbd-9d45-90793cf72a36"
      },
      "outputs": [
        {
          "output_type": "stream",
          "name": "stdout",
          "text": [
            "5 7 4 8 \n",
            "5 8 9 4 \n"
          ]
        }
      ],
      "source": [
        "class ListNode:\n",
        "    def __init__(self, val=0, next=None):\n",
        "        self.val = val\n",
        "        self.next = next\n",
        "\n",
        "def create_new_list(list1, list2):\n",
        "    if list1 is None or list2 is None:\n",
        "        return None\n",
        "\n",
        "    head = ListNode(max(list1.val, list2.val))\n",
        "    current = head\n",
        "    ptr1 = list1.next\n",
        "    ptr2 = list2.next\n",
        "\n",
        "    while ptr1 and ptr2:\n",
        "        new_node = ListNode(max(ptr1.val, ptr2.val))\n",
        "        current.next = new_node\n",
        "        current = new_node\n",
        "        ptr1 = ptr1.next\n",
        "        ptr2 = ptr2.next\n",
        "\n",
        "    return head\n",
        "\n",
        "# Example 1\n",
        "# Input: list1 = 5->2->3->8\n",
        "#        list2 = 1->7->4->5\n",
        "# Output: New list = 5->7->4->8\n",
        "\n",
        "list1 = ListNode(5)\n",
        "list1.next = ListNode(2)\n",
        "list1.next.next = ListNode(3)\n",
        "list1.next.next.next = ListNode(8)\n",
        "\n",
        "list2 = ListNode(1)\n",
        "list2.next = ListNode(7)\n",
        "list2.next.next = ListNode(4)\n",
        "list2.next.next.next = ListNode(5)\n",
        "\n",
        "result1 = create_new_list(list1, list2)\n",
        "while result1:\n",
        "    print(result1.val, end=\" \")\n",
        "    result1 = result1.next\n",
        "\n",
        "print()\n",
        "\n",
        "# Example 2\n",
        "# Input: list1 = 2->8->9->3\n",
        "#        list2 = 5->3->6->4\n",
        "# Output: New list = 5->8->9->4\n",
        "\n",
        "list3 = ListNode(2)\n",
        "list3.next = ListNode(8)\n",
        "list3.next.next = ListNode(9)\n",
        "list3.next.next.next = ListNode(3)\n",
        "\n",
        "list4 = ListNode(5)\n",
        "list4.next = ListNode(3)\n",
        "list4.next.next = ListNode(6)\n",
        "list4.next.next.next = ListNode(4)\n",
        "\n",
        "result2 = create_new_list(list3, list4)\n",
        "while result2:\n",
        "    print(result2.val, end=\" \")\n",
        "    result2 = result2.next\n",
        "\n",
        "print()\n"
      ]
    },
    {
      "cell_type": "markdown",
      "source": [
        "Write a function that takes a list sorted in non-decreasing order and deletes any duplicate nodes from the list. The list should only be traversed once.\n",
        "\n",
        "For example if the linked list is 11->11->11->21->43->43->60 then removeDuplicates() should convert the list to 11->21->43->60.\n",
        "\n",
        "**Example 1:**\n",
        "Input:\n",
        "LinkedList:\n",
        "11->11->11->21->43->43->60\n",
        "Output:\n",
        "11->21->43->60\n",
        "\n",
        "Example 2:\n",
        "Input:\n",
        "LinkedList:\n",
        "10->12->12->25->25->25->34\n",
        "Output:\n",
        "10->12->25->34"
      ],
      "metadata": {
        "id": "FtE4rsjv7wd-"
      }
    },
    {
      "cell_type": "code",
      "source": [
        "class ListNode:\n",
        "    def __init__(self, val=0, next=None):\n",
        "        self.val = val\n",
        "        self.next = next\n",
        "\n",
        "def remove_duplicates(head):\n",
        "    if head is None or head.next is None:\n",
        "        return head\n",
        "\n",
        "    current = head\n",
        "\n",
        "    while current.next:\n",
        "        if current.val == current.next.val:\n",
        "            current.next = current.next.next\n",
        "        else:\n",
        "            current = current.next\n",
        "\n",
        "    return head\n",
        "\n",
        "# Example 1\n",
        "# Input: LinkedList: 11->11->11->21->43->43->60\n",
        "# Output: 11->21->43->60\n",
        "\n",
        "head1 = ListNode(11)\n",
        "head1.next = ListNode(11)\n",
        "head1.next.next = ListNode(11)\n",
        "head1.next.next.next = ListNode(21)\n",
        "head1.next.next.next.next = ListNode(43)\n",
        "head1.next.next.next.next.next = ListNode(43)\n",
        "head1.next.next.next.next.next.next = ListNode(60)\n",
        "\n",
        "result1 = remove_duplicates(head1)\n",
        "while result1:\n",
        "    print(result1.val, end=\" \")\n",
        "    result1 = result1.next\n",
        "\n",
        "print()\n",
        "\n",
        "# Example 2\n",
        "# Input: LinkedList: 10->12->12->25->25->25->34\n",
        "# Output: 10->12->25->34\n",
        "\n",
        "head2 = ListNode(10)\n",
        "head2.next = ListNode(12)\n",
        "head2.next.next = ListNode(12)\n",
        "head2.next.next.next = ListNode(25)\n",
        "head2.next.next.next.next = ListNode(25)\n",
        "head2.next.next.next.next.next = ListNode(25)\n",
        "head2.next.next.next.next.next.next = ListNode(34)\n",
        "\n",
        "result2 = remove_duplicates(head2)\n",
        "while result2:\n",
        "    print(result2.val, end=\" \")\n",
        "    result2 = result2.next\n",
        "\n",
        "print()\n"
      ],
      "metadata": {
        "colab": {
          "base_uri": "https://localhost:8080/"
        },
        "id": "H2cmFgWC7wq1",
        "outputId": "17f1a507-3640-4587-c457-ec3a07f1e0d4"
      },
      "execution_count": 2,
      "outputs": [
        {
          "output_type": "stream",
          "name": "stdout",
          "text": [
            "11 21 43 60 \n",
            "10 12 25 34 \n"
          ]
        }
      ]
    },
    {
      "cell_type": "markdown",
      "source": [
        "Given a linked list of size **N**. The task is to reverse every **k** nodes (where k is an input to the function) in the linked list. If the number of nodes is not a multiple of *k* then left-out nodes, in the end, should be considered as a group and must be reversed (See Example 2 for clarification).\n",
        "\n",
        "**Example 1:**\n",
        "Input:\n",
        "LinkedList: 1->2->2->4->5->6->7->8\n",
        "K = 4\n",
        "Output:4 2 2 1 8 7 6 5\n",
        "Explanation:\n",
        "The first 4 elements 1,2,2,4 are reversed first\n",
        "and then the next 4 elements 5,6,7,8. Hence, the\n",
        "resultant linked list is 4->2->2->1->8->7->6->5.\n",
        "\n",
        "Example 2:\n",
        "Input:\n",
        "LinkedList: 1->2->3->4->5\n",
        "K = 3\n",
        "Output:3 2 1 5 4\n",
        "Explanation:\n",
        "The first 3 elements are 1,2,3 are reversed\n",
        "first and then elements 4,5 are reversed.Hence,\n",
        "the resultant linked list is 3->2->1->5->4."
      ],
      "metadata": {
        "id": "dQNGCPCp7w3b"
      }
    },
    {
      "cell_type": "code",
      "source": [
        "class ListNode:\n",
        "    def __init__(self, val=0, next=None):\n",
        "        self.val = val\n",
        "        self.next = next\n",
        "\n",
        "def reverse_k_nodes(head, k):\n",
        "    if head is None or head.next is None or k <= 1:\n",
        "        return head\n",
        "\n",
        "    # Helper function to reverse a group of k nodes\n",
        "    def reverse_group(head, k):\n",
        "        prev = None\n",
        "        curr = head\n",
        "        count = 0\n",
        "\n",
        "        while curr and count < k:\n",
        "            next_node = curr.next\n",
        "            curr.next = prev\n",
        "            prev = curr\n",
        "            curr = next_node\n",
        "            count += 1\n",
        "\n",
        "        if next_node:\n",
        "            head.next = reverse_group(next_node, k)\n",
        "\n",
        "        return prev\n",
        "\n",
        "    return reverse_group(head, k)\n",
        "\n",
        "# Example 1\n",
        "# Input: LinkedList: 1->2->2->4->5->6->7->8\n",
        "#        K = 4\n",
        "# Output: 4->2->2->1->8->7->6->5\n",
        "\n",
        "head1 = ListNode(1)\n",
        "head1.next = ListNode(2)\n",
        "head1.next.next = ListNode(2)\n",
        "head1.next.next.next = ListNode(4)\n",
        "head1.next.next.next.next = ListNode(5)\n",
        "head1.next.next.next.next.next = ListNode(6)\n",
        "head1.next.next.next.next.next.next = ListNode(7)\n",
        "head1.next.next.next.next.next.next.next = ListNode(8)\n",
        "\n",
        "result1 = reverse_k_nodes(head1, 4)\n",
        "while result1:\n",
        "    print(result1.val, end=\" \")\n",
        "    result1 = result1.next\n",
        "\n",
        "print()\n",
        "\n",
        "# Example 2\n",
        "# Input: LinkedList: 1->2->3->4->5\n",
        "#        K = 3\n",
        "# Output: 3->2->1->5->4\n",
        "\n",
        "head2 = ListNode(1)\n",
        "head2.next = ListNode(2)\n",
        "head2.next.next = ListNode(3)\n",
        "head2.next.next.next = ListNode(4)\n",
        "head2.next.next.next.next = ListNode(5)\n",
        "\n",
        "result2 = reverse_k_nodes(head2, 3)\n",
        "while result2:\n",
        "    print(result2.val, end=\" \")\n",
        "    result2 = result2.next\n",
        "\n",
        "print()\n"
      ],
      "metadata": {
        "colab": {
          "base_uri": "https://localhost:8080/"
        },
        "id": "UBzbfqMH7xEv",
        "outputId": "2bfb3f0b-573b-4ea6-eef9-96a464fa0237"
      },
      "execution_count": 3,
      "outputs": [
        {
          "output_type": "stream",
          "name": "stdout",
          "text": [
            "4 2 2 1 8 7 6 5 \n",
            "3 2 1 5 4 \n"
          ]
        }
      ]
    },
    {
      "cell_type": "markdown",
      "source": [
        "Given a linked list, write a function to reverse every alternate k nodes (where k is an input to the function) in an efficient way. Give the complexity of your algorithm.\n",
        "\n",
        "**Example:**\n",
        "Inputs:   1->2->3->4->5->6->7->8->9->NULL and k = 3\n",
        "Output:   3->2->1->4->5->6->9->8->7->NULL."
      ],
      "metadata": {
        "id": "F7A4Moab7xSN"
      }
    },
    {
      "cell_type": "code",
      "source": [
        "class ListNode:\n",
        "    def __init__(self, val=0, next=None):\n",
        "        self.val = val\n",
        "        self.next = next\n",
        "\n",
        "def reverse_alternate_k_nodes(head, k):\n",
        "    if head is None or head.next is None or k <= 1:\n",
        "        return head\n",
        "\n",
        "    # Helper function to reverse a group of k nodes\n",
        "    def reverse_group(head, k):\n",
        "        prev = None\n",
        "        curr = head\n",
        "        count = 0\n",
        "\n",
        "        while curr and count < k:\n",
        "            next_node = curr.next\n",
        "            curr.next = prev\n",
        "            prev = curr\n",
        "            curr = next_node\n",
        "            count += 1\n",
        "\n",
        "        if next_node:\n",
        "            head.next = next_node\n",
        "\n",
        "            # Skip k-1 nodes\n",
        "            for _ in range(k-1):\n",
        "                if next_node:\n",
        "                    next_node = next_node.next\n",
        "\n",
        "            if next_node:\n",
        "                next_node.next = reverse_group(next_node.next, k)\n",
        "\n",
        "        return prev\n",
        "\n",
        "    return reverse_group(head, k)\n",
        "\n",
        "# Example\n",
        "# Input: LinkedList: 1->2->3->4->5->6->7->8->9->NULL\n",
        "#        k = 3\n",
        "# Output: 3->2->1->4->5->6->9->8->7->NULL\n",
        "\n",
        "head = ListNode(1)\n",
        "head.next = ListNode(2)\n",
        "head.next.next = ListNode(3)\n",
        "head.next.next.next = ListNode(4)\n",
        "head.next.next.next.next = ListNode(5)\n",
        "head.next.next.next.next.next = ListNode(6)\n",
        "head.next.next.next.next.next.next = ListNode(7)\n",
        "head.next.next.next.next.next.next.next = ListNode(8)\n",
        "head.next.next.next.next.next.next.next.next = ListNode(9)\n",
        "\n",
        "result = reverse_alternate_k_nodes(head, 3)\n",
        "while result:\n",
        "    print(result.val, end=\" \")\n",
        "    result = result.next\n",
        "\n",
        "print()\n"
      ],
      "metadata": {
        "colab": {
          "base_uri": "https://localhost:8080/"
        },
        "id": "BIeXrBbl7xgp",
        "outputId": "9dca7d45-51c8-4893-dbba-918fedf5e693"
      },
      "execution_count": 4,
      "outputs": [
        {
          "output_type": "stream",
          "name": "stdout",
          "text": [
            "3 2 1 4 5 6 9 8 7 \n"
          ]
        }
      ]
    },
    {
      "cell_type": "markdown",
      "source": [
        "Given a linked list and a key to be deleted. Delete last occurrence of key from linked. The list may have duplicates.\n",
        "\n",
        "**Examples**:\n",
        "Input:   1->2->3->5->2->10, key = 2\n",
        "Output:  1->2->3->5->10"
      ],
      "metadata": {
        "id": "6eeJ_OE57xuC"
      }
    },
    {
      "cell_type": "code",
      "source": [
        "class ListNode:\n",
        "    def __init__(self, val=0, next=None):\n",
        "        self.val = val\n",
        "        self.next = next\n",
        "\n",
        "def delete_last_occurrence(head, key):\n",
        "    if head is None:\n",
        "        return head\n",
        "\n",
        "    prev = None\n",
        "    curr = head\n",
        "    last_occurrence = None\n",
        "    prev_last_occurrence = None\n",
        "\n",
        "    while curr:\n",
        "        if curr.val == key:\n",
        "            last_occurrence = curr\n",
        "            prev_last_occurrence = prev\n",
        "\n",
        "        prev = curr\n",
        "        curr = curr.next\n",
        "\n",
        "    if last_occurrence:\n",
        "        if prev_last_occurrence:\n",
        "            prev_last_occurrence.next = last_occurrence.next\n",
        "        else:\n",
        "            head = head.next\n",
        "\n",
        "    return head\n",
        "\n",
        "# Example\n",
        "# Input: LinkedList: 1->2->3->5->2->10, key = 2\n",
        "# Output: 1->2->3->5->10\n",
        "\n",
        "head = ListNode(1)\n",
        "head.next = ListNode(2)\n",
        "head.next.next = ListNode(3)\n",
        "head.next.next.next = ListNode(5)\n",
        "head.next.next.next.next = ListNode(2)\n",
        "head.next.next.next.next.next = ListNode(10)\n",
        "\n",
        "key = 2\n",
        "\n",
        "result = delete_last_occurrence(head, key)\n",
        "while result:\n",
        "    print(result.val, end=\" \")\n",
        "    result = result.next\n",
        "\n",
        "print()\n"
      ],
      "metadata": {
        "colab": {
          "base_uri": "https://localhost:8080/"
        },
        "id": "z1ZpHTP47x8m",
        "outputId": "ef1879c5-c36c-44d6-c3e5-3ece2c3cb487"
      },
      "execution_count": 5,
      "outputs": [
        {
          "output_type": "stream",
          "name": "stdout",
          "text": [
            "1 2 3 5 10 \n"
          ]
        }
      ]
    },
    {
      "cell_type": "markdown",
      "source": [
        "Given two sorted linked lists consisting of **N** and **M** nodes respectively. The task is to merge both of the lists (in place) and return the head of the merged list.\n",
        "\n",
        "**Examples:**\n",
        "nput: a: 5->10->15, b: 2->3->20\n",
        "\n",
        "Output: 2->3->5->10->15->20\n",
        "\n",
        "Input: a: 1->1, b: 2->4\n",
        "\n",
        "Output: 1->1->2->4"
      ],
      "metadata": {
        "id": "Wb1CesbM7yJJ"
      }
    },
    {
      "cell_type": "code",
      "source": [
        "class ListNode:\n",
        "    def __init__(self, val=0, next=None):\n",
        "        self.val = val\n",
        "        self.next = next\n",
        "\n",
        "def merge_sorted_lists(a, b):\n",
        "    # Handle empty lists\n",
        "    if a is None:\n",
        "        return b\n",
        "    if b is None:\n",
        "        return a\n",
        "\n",
        "    # Determine the head of the merged list\n",
        "    if a.val <= b.val:\n",
        "        head = a\n",
        "        a = a.next\n",
        "    else:\n",
        "        head = b\n",
        "        b = b.next\n",
        "\n",
        "    # Merge the remaining nodes\n",
        "    current = head\n",
        "\n",
        "    while a and b:\n",
        "        if a.val <= b.val:\n",
        "            current.next = a\n",
        "            a = a.next\n",
        "        else:\n",
        "            current.next = b\n",
        "            b = b.next\n",
        "\n",
        "        current = current.next\n",
        "\n",
        "    # Attach the remaining nodes\n",
        "    if a:\n",
        "        current.next = a\n",
        "    if b:\n",
        "        current.next = b\n",
        "\n",
        "    return head\n",
        "\n",
        "# Example 1\n",
        "# Input: a: 5->10->15, b: 2->3->20\n",
        "# Output: 2->3->5->10->15->20\n",
        "\n",
        "a = ListNode(5)\n",
        "a.next = ListNode(10)\n",
        "a.next.next = ListNode(15)\n",
        "\n",
        "b = ListNode(2)\n",
        "b.next = ListNode(3)\n",
        "b.next.next = ListNode(20)\n",
        "\n",
        "result1 = merge_sorted_lists(a, b)\n",
        "while result1:\n",
        "    print(result1.val, end=\" \")\n",
        "    result1 = result1.next\n",
        "\n",
        "print()\n",
        "\n",
        "# Example 2\n",
        "# Input: a: 1->1, b: 2->4\n",
        "# Output: 1->1->2->4\n",
        "\n",
        "a = ListNode(1)\n",
        "a.next = ListNode(1)\n",
        "\n",
        "b = ListNode(2)\n",
        "b.next = ListNode(4)\n",
        "\n",
        "result2 = merge_sorted_lists(a, b)\n",
        "while result2:\n",
        "    print(result2.val, end=\" \")\n",
        "    result2 = result2.next\n",
        "\n",
        "print()\n"
      ],
      "metadata": {
        "colab": {
          "base_uri": "https://localhost:8080/"
        },
        "id": "-nCemrYj7yX7",
        "outputId": "d6da79c1-0733-480c-cd3f-f4dc3413e7ec"
      },
      "execution_count": 6,
      "outputs": [
        {
          "output_type": "stream",
          "name": "stdout",
          "text": [
            "2 3 5 10 15 20 \n",
            "1 1 2 4 \n"
          ]
        }
      ]
    },
    {
      "cell_type": "markdown",
      "source": [
        "Given a **Doubly Linked List**, the task is to reverse the given Doubly Linked List.\n",
        "\n",
        "**Example:**\n",
        "Original Linked list 10 8 4 2\n",
        "Reversed Linked list 2 4 8 10"
      ],
      "metadata": {
        "id": "8lJsiPPT7ylL"
      }
    },
    {
      "cell_type": "code",
      "source": [
        "class Node:\n",
        "    def __init__(self, data):\n",
        "        self.data = data\n",
        "        self.next = None\n",
        "        self.prev = None\n",
        "\n",
        "def reverse_doubly_linked_list(head):\n",
        "    if head is None or head.next is None:\n",
        "        return head\n",
        "\n",
        "    current = head\n",
        "    while current:\n",
        "        # Swap prev and next pointers\n",
        "        temp = current.prev\n",
        "        current.prev = current.next\n",
        "        current.next = temp\n",
        "\n",
        "        # Move to the next node\n",
        "        current = current.prev\n",
        "\n",
        "    # Update the head pointer\n",
        "    if temp:\n",
        "        head = temp.prev\n",
        "\n",
        "    return head\n",
        "\n",
        "# Example\n",
        "# Original Linked list: 10 8 4 2\n",
        "# Reversed Linked list: 2 4 8 10\n",
        "\n",
        "head = Node(10)\n",
        "node1 = Node(8)\n",
        "node2 = Node(4)\n",
        "node3 = Node(2)\n",
        "\n",
        "head.next = node1\n",
        "node1.prev = head\n",
        "node1.next = node2\n",
        "node2.prev = node1\n",
        "node2.next = node3\n",
        "node3.prev = node2\n",
        "\n",
        "reversed_head = reverse_doubly_linked_list(head)\n",
        "current = reversed_head\n",
        "while current:\n",
        "    print(current.data, end=\" \")\n",
        "    current = current.next\n",
        "\n",
        "print()\n"
      ],
      "metadata": {
        "colab": {
          "base_uri": "https://localhost:8080/"
        },
        "id": "TR8uwYqK7y0Z",
        "outputId": "2cf3d49c-4c35-4f72-9bbd-1b7a4dc60ccf"
      },
      "execution_count": 7,
      "outputs": [
        {
          "output_type": "stream",
          "name": "stdout",
          "text": [
            "2 4 8 10 \n"
          ]
        }
      ]
    },
    {
      "cell_type": "markdown",
      "source": [
        "Given a doubly linked list and a position. The task is to delete a node from given position in a doubly linked list.\n",
        "\n",
        "**Example 1:**\n",
        "Input:\n",
        "LinkedList = 1 <--> 3 <--> 4\n",
        "x = 3\n",
        "Output:1 3\n",
        "Explanation:After deleting the node at\n",
        "position 3 (position starts from 1),\n",
        "the linked list will be now as 1->3.\n",
        "\n",
        "Example 2:\n",
        "Input:\n",
        "LinkedList = 1 <--> 5 <--> 2 <--> 9\n",
        "x = 1\n",
        "Output:5 2 9"
      ],
      "metadata": {
        "id": "Tvjbowsf7zC8"
      }
    },
    {
      "cell_type": "code",
      "source": [
        "class Node:\n",
        "    def __init__(self, data):\n",
        "        self.data = data\n",
        "        self.next = None\n",
        "        self.prev = None\n",
        "\n",
        "def delete_node_at_position(head, position):\n",
        "    if head is None:\n",
        "        return head\n",
        "\n",
        "    # Case 1: Delete the head node\n",
        "    if position == 1:\n",
        "        if head.next is None:\n",
        "            return None\n",
        "        else:\n",
        "            head.next.prev = None\n",
        "            return head.next\n",
        "\n",
        "    current = head\n",
        "    count = 1\n",
        "\n",
        "    # Find the node at the given position\n",
        "    while current and count < position:\n",
        "        current = current.next\n",
        "        count += 1\n",
        "\n",
        "    # Case 2: Delete a node in the middle of the list\n",
        "    if current.next is not None:\n",
        "        current.prev.next = current.next\n",
        "        current.next.prev = current.prev\n",
        "    # Case 3: Delete the last node\n",
        "    else:\n",
        "        current.prev.next = None\n",
        "\n",
        "    return head\n",
        "\n",
        "# Example 1\n",
        "# Input: LinkedList = 1 <--> 3 <--> 4, x = 3\n",
        "# Output: 1 3\n",
        "\n",
        "head1 = Node(1)\n",
        "node1 = Node(3)\n",
        "node2 = Node(4)\n",
        "\n",
        "head1.next = node1\n",
        "node1.prev = head1\n",
        "node1.next = node2\n",
        "node2.prev = node1\n",
        "\n",
        "position1 = 3\n",
        "\n",
        "result1 = delete_node_at_position(head1, position1)\n",
        "current1 = result1\n",
        "while current1:\n",
        "    print(current1.data, end=\" \")\n",
        "    current1 = current1.next\n",
        "\n",
        "print()\n",
        "\n",
        "# Example 2\n",
        "# Input: LinkedList = 1 <--> 5 <--> 2 <--> 9, x = 1\n",
        "# Output: 5 2 9\n",
        "\n",
        "head2 = Node(1)\n",
        "node3 = Node(5)\n",
        "node4 = Node(2)\n",
        "node5 = Node(9)\n",
        "\n",
        "head2.next = node3\n",
        "node3.prev = head2\n",
        "node3.next = node4\n",
        "node4.prev = node3\n",
        "node4.next = node5\n",
        "node5.prev = node4\n",
        "\n",
        "position2 = 1\n",
        "\n",
        "result2 = delete_node_at_position(head2, position2)\n",
        "current2 = result2\n",
        "while current2:\n",
        "    print(current2.data, end=\" \")\n",
        "    current2 = current2.next\n",
        "\n",
        "print()\n"
      ],
      "metadata": {
        "colab": {
          "base_uri": "https://localhost:8080/"
        },
        "id": "whBLW2tH7zTX",
        "outputId": "b09e0021-fa05-4ce5-cd90-772960a0c9fa"
      },
      "execution_count": 8,
      "outputs": [
        {
          "output_type": "stream",
          "name": "stdout",
          "text": [
            "1 3 \n",
            "5 2 9 \n"
          ]
        }
      ]
    }
  ]
}