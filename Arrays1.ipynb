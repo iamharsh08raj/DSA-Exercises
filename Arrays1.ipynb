{
  "nbformat": 4,
  "nbformat_minor": 0,
  "metadata": {
    "colab": {
      "provenance": []
    },
    "kernelspec": {
      "name": "python3",
      "display_name": "Python 3"
    },
    "language_info": {
      "name": "python"
    }
  },
  "cells": [
    {
      "cell_type": "markdown",
      "source": [
        "# Assignment Questions 1"
      ],
      "metadata": {
        "id": "axlzhTe1zBsG"
      }
    },
    {
      "cell_type": "markdown",
      "source": [
        "<aside>\n",
        "💡 **Q1.** Given an array of integers nums and an integer target, return indices of the two numbers such that they add up to target.\n",
        "\n",
        "You may assume that each input would have exactly one solution, and you may not use the same element twice.\n",
        "\n",
        "You can return the answer in any order.\n",
        "\n",
        "**Example:**\n",
        "Input: nums = [2,7,11,15], target = 9\n",
        "Output0 [0,1]\n",
        "\n",
        "**Explanation:** Because nums[0] + nums[1] == 9, we return [0, 1][\n",
        "\n",
        "</aside>"
      ],
      "metadata": {
        "id": "uzUHoHr9zJ1z"
      }
    },
    {
      "cell_type": "code",
      "source": [
        "def twoSum(nums, target):\n",
        "    # Create a dictionary to store the complement of each number\n",
        "    complement_dict = {}\n",
        "\n",
        "    # Iterate through the array\n",
        "    for i, num in enumerate(nums):\n",
        "        # Calculate the complement for the current number\n",
        "        complement = target - num\n",
        "\n",
        "        # Check if the complement exists in the dictionary\n",
        "        if complement in complement_dict:\n",
        "            # Return the indices of the two numbers\n",
        "            return [complement_dict[complement], i]\n",
        "\n",
        "        # Add the current number and its index to the dictionary\n",
        "        complement_dict[num] = i\n",
        "\n",
        "    # If no solution is found, return an empty list\n",
        "    return []\n",
        "\n",
        "# Test the function\n",
        "nums = [2, 7, 11, 15]\n",
        "target = 9\n",
        "result = twoSum(nums, target)\n",
        "print(result)\n"
      ],
      "metadata": {
        "colab": {
          "base_uri": "https://localhost:8080/"
        },
        "id": "x6NnchUSzORc",
        "outputId": "4b8dd9ae-4ab8-424b-cafc-03e71c6754b7"
      },
      "execution_count": 1,
      "outputs": [
        {
          "output_type": "stream",
          "name": "stdout",
          "text": [
            "[0, 1]\n"
          ]
        }
      ]
    },
    {
      "cell_type": "markdown",
      "source": [
        "<aside>\n",
        "💡 **Q2.** Given an integer array nums and an integer val, remove all occurrences of val in nums in-place. The order of the elements may be changed. Then return the number of elements in nums which are not equal to val.\n",
        "\n",
        "Consider the number of elements in nums which are not equal to val be k, to get accepted, you need to do the following things:\n",
        "\n",
        "- Change the array nums such that the first k elements of nums contain the elements which are not equal to val. The remaining elements of nums are not important as well as the size of nums.\n",
        "- Return k.\n",
        "\n",
        "**Example :**\n",
        "Input: nums = [3,2,2,3], val = 3\n",
        "Output: 2, nums = [2,2,_*,_*]\n",
        "\n",
        "**Explanation:** Your function should return k = 2, with the first two elements of nums being 2. It does not matter what you leave beyond the returned k (hence they are underscores)[\n",
        "\n",
        "</aside>"
      ],
      "metadata": {
        "id": "XYuI2KRw0FYj"
      }
    },
    {
      "cell_type": "code",
      "source": [
        "def removeElement(nums, val):\n",
        "    # Initialize two pointers\n",
        "    i = 0  # Pointer for iterating through the array\n",
        "    k = 0  # Pointer for updating the array with non-val elements\n",
        "\n",
        "    # Iterate through the array\n",
        "    while i < len(nums):\n",
        "        # If the current element is not equal to val\n",
        "        if nums[i] != val:\n",
        "            # Update the array with the non-val element\n",
        "            nums[k] = nums[i]\n",
        "            k += 1\n",
        "\n",
        "        i += 1\n",
        "\n",
        "    # Return the count of elements that are not equal to val\n",
        "    return k\n",
        "\n",
        "# Test the function\n",
        "nums = [3, 2, 2, 3]\n",
        "val = 3\n",
        "k = removeElement(nums, val)\n",
        "print(\"k =\", k)\n",
        "print(\"nums =\", nums[:k], end=\"\")\n",
        "print(\"_*\" * (len(nums) - k))\n"
      ],
      "metadata": {
        "colab": {
          "base_uri": "https://localhost:8080/"
        },
        "id": "pgD8MsW2z5Yg",
        "outputId": "3876871a-e89d-4cad-b1d7-f5739347ddd4"
      },
      "execution_count": 2,
      "outputs": [
        {
          "output_type": "stream",
          "name": "stdout",
          "text": [
            "k = 2\n",
            "nums = [2, 2]_*_*\n"
          ]
        }
      ]
    },
    {
      "cell_type": "markdown",
      "source": [
        "<aside>\n",
        "💡 Given a sorted array of distinct integers and a target value, return the index if the target is found. If not, return the index where it would be if it were inserted in order.\n",
        "\n",
        "You must write an algorithm with O(log n) runtime complexity.\n",
        "\n",
        "**Example 1:**\n",
        "Input: nums = [1,3,5,6], target = 5\n",
        "\n",
        "Output: 2\n",
        "\n",
        "</aside>"
      ],
      "metadata": {
        "id": "q16A7xvu0v12"
      }
    },
    {
      "cell_type": "code",
      "source": [
        "def searchInsert(nums, target):\n",
        "    left = 0\n",
        "    right = len(nums) - 1\n",
        "\n",
        "    while left <= right:\n",
        "        mid = left + (right - left) // 2\n",
        "\n",
        "        if nums[mid] == target:\n",
        "            return mid\n",
        "        elif nums[mid] < target:\n",
        "            left = mid + 1\n",
        "        else:\n",
        "            right = mid - 1\n",
        "\n",
        "    return left\n",
        "\n",
        "# Test the function\n",
        "nums = [1, 3, 5, 6]\n",
        "target = 5\n",
        "index = searchInsert(nums, target)\n",
        "print(\"Output:\", index)\n"
      ],
      "metadata": {
        "colab": {
          "base_uri": "https://localhost:8080/"
        },
        "id": "WC7LIyWu0d25",
        "outputId": "65b27c33-0f0c-47aa-b3b5-c065723ae4af"
      },
      "execution_count": 3,
      "outputs": [
        {
          "output_type": "stream",
          "name": "stdout",
          "text": [
            "Output: 2\n"
          ]
        }
      ]
    },
    {
      "cell_type": "markdown",
      "source": [
        "<aside>\n",
        "💡 You are given a large integer represented as an integer array digits, where each digits[i] is the ith digit of the integer. The digits are ordered from most significant to least significant in left-to-right order. The large integer does not contain any leading 0's.\n",
        "\n",
        "Increment the large integer by one and return the resulting array of digits.\n",
        "\n",
        "**Example 1:**\n",
        "Input: digits = [1,2,3]\n",
        "Output: [1,2,4]\n",
        "\n",
        "**Explanation:** The array represents the integer 123.\n",
        "\n",
        "Incrementing by one gives 123 + 1 = 124.\n",
        "Thus, the result should be [1,2,4].\n",
        "\n",
        "</aside>"
      ],
      "metadata": {
        "id": "i3_afIk61BPg"
      }
    },
    {
      "cell_type": "code",
      "source": [
        "def plusOne(digits):\n",
        "    n = len(digits)\n",
        "\n",
        "    # Traverse the digits array from right to left\n",
        "    for i in range(n - 1, -1, -1):\n",
        "        # Increment the current digit by one\n",
        "        digits[i] += 1\n",
        "\n",
        "        # Check if there is a carry-over\n",
        "        if digits[i] < 10:\n",
        "            # No carry-over, return the digits as it is\n",
        "            return digits\n",
        "        else:\n",
        "            # Carry-over occurred, set the current digit to zero\n",
        "            digits[i] = 0\n",
        "\n",
        "    # If we reach this point, it means there was a carry-over from the most significant digit\n",
        "    # Add a new digit 1 at the beginning of the digits array\n",
        "    return [1] + digits\n",
        "\n",
        "# Test the function\n",
        "digits = [1, 2, 3]\n",
        "result = plusOne(digits)\n",
        "print(\"Output:\", result)\n"
      ],
      "metadata": {
        "colab": {
          "base_uri": "https://localhost:8080/"
        },
        "id": "Xwh0rHTX05ov",
        "outputId": "21510e53-4964-4e94-b7e5-60916bfa23e4"
      },
      "execution_count": 4,
      "outputs": [
        {
          "output_type": "stream",
          "name": "stdout",
          "text": [
            "Output: [1, 2, 4]\n"
          ]
        }
      ]
    },
    {
      "cell_type": "markdown",
      "source": [
        "<aside>\n",
        "💡 You are given two integer arrays nums1 and nums2, sorted in non-decreasing order, and two integers m and n, representing the number of elements in nums1 and nums2 respectively.\n",
        "\n",
        "Merge nums1 and nums2 into a single array sorted in non-decreasing order.\n",
        "\n",
        "The final sorted array should not be returned by the function, but instead be stored inside the array nums1. To accommodate this, nums1 has a length of m + n, where the first m elements denote the elements that should be merged, and the last n elements are set to 0 and should be ignored. nums2 has a length of n.\n",
        "\n",
        "**Example 1:**\n",
        "Input: nums1 = [1,2,3,0,0,0], m = 3, nums2 = [2,5,6], n = 3\n",
        "Output: [1,2,2,3,5,6]\n",
        "\n",
        "**Explanation:** The arrays we are merging are [1,2,3] and [2,5,6].\n",
        "The result of the merge is [1,2,2,3,5,6] with the underlined elements coming from nums1.\n",
        "\n",
        "</aside>"
      ],
      "metadata": {
        "id": "3jW_EHjb1JER"
      }
    },
    {
      "cell_type": "code",
      "source": [
        "def merge(nums1, m, nums2, n):\n",
        "    # Initialize two pointers for nums1 and nums2\n",
        "    p1 = m - 1\n",
        "    p2 = n - 1\n",
        "\n",
        "    # Initialize a pointer for the merged array (nums1)\n",
        "    p = m + n - 1\n",
        "\n",
        "    # Compare elements from both arrays and place them in nums1\n",
        "    while p1 >= 0 and p2 >= 0:\n",
        "        if nums1[p1] > nums2[p2]:\n",
        "            nums1[p] = nums1[p1]\n",
        "            p1 -= 1\n",
        "        else:\n",
        "            nums1[p] = nums2[p2]\n",
        "            p2 -= 1\n",
        "        p -= 1\n",
        "\n",
        "    # If there are remaining elements in nums2, place them in nums1\n",
        "    while p2 >= 0:\n",
        "        nums1[p] = nums2[p2]\n",
        "        p2 -= 1\n",
        "        p -= 1\n",
        "\n",
        "    # nums1 is now the merged and sorted array\n",
        "    return nums1\n",
        "\n",
        "# Test the function\n",
        "nums1 = [1, 2, 3, 0, 0, 0]\n",
        "m = 3\n",
        "nums2 = [2, 5, 6]\n",
        "n = 3\n",
        "result = merge(nums1, m, nums2, n)\n",
        "print(\"Output:\", result)\n"
      ],
      "metadata": {
        "colab": {
          "base_uri": "https://localhost:8080/"
        },
        "id": "ZcsO8Q3C1Ccd",
        "outputId": "62d0fbeb-0c86-4f46-f5a1-a617033a0341"
      },
      "execution_count": 5,
      "outputs": [
        {
          "output_type": "stream",
          "name": "stdout",
          "text": [
            "Output: [1, 2, 2, 3, 5, 6]\n"
          ]
        }
      ]
    },
    {
      "cell_type": "markdown",
      "source": [
        "<aside>\n",
        "💡 Given an integer array nums, return true if any value appears at least twice in the array, and return false if every element is distinct.\n",
        "\n",
        "**Example 1:**\n",
        "Input: nums = [1,2,3,1]\n",
        "\n",
        "Output: true\n",
        "\n",
        "</aside>"
      ],
      "metadata": {
        "id": "cgAIQh2Y1Yxt"
      }
    },
    {
      "cell_type": "code",
      "source": [
        "def containsDuplicate(nums):\n",
        "    # Create a set to store unique elements\n",
        "    unique_nums = set()\n",
        "\n",
        "    # Iterate through the array\n",
        "    for num in nums:\n",
        "        # Check if the current element is already in the set\n",
        "        if num in unique_nums:\n",
        "            return True\n",
        "\n",
        "        # Add the current element to the set\n",
        "        unique_nums.add(num)\n",
        "\n",
        "    # No duplicates found\n",
        "    return False\n",
        "\n",
        "# Test the function\n",
        "nums = [1, 2, 3, 1]\n",
        "result = containsDuplicate(nums)\n",
        "print(\"Output:\", result)\n"
      ],
      "metadata": {
        "colab": {
          "base_uri": "https://localhost:8080/"
        },
        "id": "Njlh_gbH1U1K",
        "outputId": "dc22ce7f-cfdd-4c16-eed4-41258ea380f8"
      },
      "execution_count": 6,
      "outputs": [
        {
          "output_type": "stream",
          "name": "stdout",
          "text": [
            "Output: True\n"
          ]
        }
      ]
    },
    {
      "cell_type": "markdown",
      "source": [
        "<aside>\n",
        "💡 Given an integer array nums, move all 0's to the end of it while maintaining the relative order of the nonzero elements.\n",
        "\n",
        "Note that you must do this in-place without making a copy of the array.\n",
        "\n",
        "**Example 1:**\n",
        "Input: nums = [0,1,0,3,12]\n",
        "Output: [1,3,12,0,0]\n",
        "\n",
        "</aside>"
      ],
      "metadata": {
        "id": "3qnXyndq1dkr"
      }
    },
    {
      "cell_type": "code",
      "source": [
        "def moveZeroes(nums):\n",
        "    # Initialize a pointer for the next position to place a nonzero element\n",
        "    next_nonzero = 0\n",
        "\n",
        "    # Iterate through the array\n",
        "    for num in nums:\n",
        "        # If the current element is nonzero\n",
        "        if num != 0:\n",
        "            # Place the current nonzero element at the next position\n",
        "            nums[next_nonzero] = num\n",
        "            next_nonzero += 1\n",
        "\n",
        "    # Fill the remaining positions with zeros\n",
        "    for i in range(next_nonzero, len(nums)):\n",
        "        nums[i] = 0\n",
        "\n",
        "    # nums is now modified in-place with zeros at the end\n",
        "    return nums\n",
        "\n",
        "# Test the function\n",
        "nums = [0, 1, 0, 3, 12]\n",
        "result = moveZeroes(nums)\n",
        "print(\"Output:\", result)\n"
      ],
      "metadata": {
        "colab": {
          "base_uri": "https://localhost:8080/"
        },
        "id": "vOxNjyh71YdG",
        "outputId": "db5ca4fc-98cd-4819-d2e9-4629892aa62a"
      },
      "execution_count": 7,
      "outputs": [
        {
          "output_type": "stream",
          "name": "stdout",
          "text": [
            "Output: [1, 3, 12, 0, 0]\n"
          ]
        }
      ]
    },
    {
      "cell_type": "markdown",
      "source": [
        "<aside>\n",
        "💡 You have a set of integers s, which originally contains all the numbers from 1 to n. Unfortunately, due to some error, one of the numbers in s got duplicated to another number in the set, which results in repetition of one number and loss of another number.\n",
        "\n",
        "You are given an integer array nums representing the data status of this set after the error.\n",
        "\n",
        "Find the number that occurs twice and the number that is missing and return them in the form of an array.\n",
        "\n",
        "**Example 1:**\n",
        "Input: nums = [1,2,2,4]\n",
        "Output: [2,3]\n",
        "\n",
        "</aside>"
      ],
      "metadata": {
        "id": "QCMKzYWl2Hfk"
      }
    },
    {
      "cell_type": "code",
      "source": [
        "def findErrorNums(nums):\n",
        "    n = len(nums)\n",
        "    num_set = set()\n",
        "    duplicate = -1\n",
        "    missing = -1\n",
        "\n",
        "    # Find the duplicate and missing numbers\n",
        "    for num in nums:\n",
        "        if num in num_set:\n",
        "            duplicate = num\n",
        "        num_set.add(num)\n",
        "\n",
        "    # Find the missing number by comparing with the set of numbers from 1 to n\n",
        "    for i in range(1, n+1):\n",
        "        if i not in num_set:\n",
        "            missing = i\n",
        "            break\n",
        "\n",
        "    return [duplicate, missing]\n",
        "\n",
        "# Test the function\n",
        "nums = [1, 2, 2, 4]\n",
        "result = findErrorNums(nums)\n",
        "print(\"Output:\", result)\n"
      ],
      "metadata": {
        "colab": {
          "base_uri": "https://localhost:8080/"
        },
        "id": "DnxKkmxD2GRo",
        "outputId": "dd83933b-dc32-4458-92e7-d844ae3a65f3"
      },
      "execution_count": 8,
      "outputs": [
        {
          "output_type": "stream",
          "name": "stdout",
          "text": [
            "Output: [2, 3]\n"
          ]
        }
      ]
    }
  ]
}