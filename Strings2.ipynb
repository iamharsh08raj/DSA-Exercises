{
  "nbformat": 4,
  "nbformat_minor": 0,
  "metadata": {
    "colab": {
      "provenance": [],
      "authorship_tag": "ABX9TyOTwj4S+a1D+9TiBKUs+Bx5",
      "include_colab_link": true
    },
    "kernelspec": {
      "name": "python3",
      "display_name": "Python 3"
    },
    "language_info": {
      "name": "python"
    }
  },
  "cells": [
    {
      "cell_type": "markdown",
      "metadata": {
        "id": "view-in-github",
        "colab_type": "text"
      },
      "source": [
        "<a href=\"https://colab.research.google.com/github/iamharsh08raj/DSA-Exercises/blob/main/Strings2.ipynb\" target=\"_parent\"><img src=\"https://colab.research.google.com/assets/colab-badge.svg\" alt=\"Open In Colab\"/></a>"
      ]
    },
    {
      "cell_type": "markdown",
      "source": [
        "Given two strings s1 and s2, return *the lowest **ASCII** sum of deleted characters to make two strings equal*.\n",
        "\n",
        "**Example 1:**\n",
        "\n",
        "**Input:** s1 = \"sea\", s2 = \"eat\"\n",
        "\n",
        "**Output:** 231\n",
        "\n",
        "**Explanation:** Deleting \"s\" from \"sea\" adds the ASCII value of \"s\" (115) to the sum.\n",
        "\n",
        "Deleting \"t\" from \"eat\" adds 116 to the sum.\n",
        "\n",
        "At the end, both strings are equal, and 115 + 116 = 231 is the minimum sum possible to achieve this."
      ],
      "metadata": {
        "id": "-Ymuwk7uKyuI"
      }
    },
    {
      "cell_type": "code",
      "source": [
        "def minimum_delete_sum(s1, s2):\n",
        "    m, n = len(s1), len(s2)\n",
        "\n",
        "    # Create a 2D DP table to store the lengths of LCS\n",
        "    dp = [[0] * (n + 1) for _ in range(m + 1)]\n",
        "\n",
        "    # Fill the DP table\n",
        "    for i in range(1, m + 1):\n",
        "        for j in range(1, n + 1):\n",
        "            if s1[i - 1] == s2[j - 1]:\n",
        "                dp[i][j] = dp[i - 1][j - 1] + ord(s1[i - 1])\n",
        "            else:\n",
        "                dp[i][j] = max(dp[i - 1][j], dp[i][j - 1])\n",
        "\n",
        "    # Calculate the sum of ASCII values of deleted characters\n",
        "    sum_deleted = 0\n",
        "    for char in s1:\n",
        "        sum_deleted += ord(char)\n",
        "    for char in s2:\n",
        "        sum_deleted += ord(char)\n",
        "\n",
        "    return sum_deleted - 2 * dp[m][n]\n",
        "\n",
        "# Example usage:\n",
        "s1 = \"sea\"\n",
        "s2 = \"eat\"\n",
        "print(minimum_delete_sum(s1, s2))\n"
      ],
      "metadata": {
        "colab": {
          "base_uri": "https://localhost:8080/"
        },
        "id": "SS-FIyx_Ky8m",
        "outputId": "6f43186e-1048-4c82-d21d-ead731d3ffeb"
      },
      "execution_count": 1,
      "outputs": [
        {
          "output_type": "stream",
          "name": "stdout",
          "text": [
            "231\n"
          ]
        }
      ]
    },
    {
      "cell_type": "markdown",
      "source": [
        "Given a string s containing only three types of characters: '(', ')' and '*', return true *if* s *is **valid***.\n",
        "\n",
        "The following rules define a **valid** string:\n",
        "\n",
        "- Any left parenthesis '(' must have a corresponding right parenthesis ')'.\n",
        "- Any right parenthesis ')' must have a corresponding left parenthesis '('.\n",
        "- Left parenthesis '(' must go before the corresponding right parenthesis ')'.\n",
        "- '*' could be treated as a single right parenthesis ')' or a single left parenthesis '(' or an empty string \"\".\n",
        "\n",
        "**Example 1:**\n",
        "\n",
        "**Input:** s = \"()\"\n",
        "\n",
        "**Output:**\n",
        "\n",
        "true"
      ],
      "metadata": {
        "id": "EloeHzN5K0X3"
      }
    },
    {
      "cell_type": "code",
      "source": [
        "def check_valid_string(s):\n",
        "    stack = []\n",
        "    asterisks = []\n",
        "\n",
        "    for i, char in enumerate(s):\n",
        "        if char == '(':\n",
        "            stack.append(i)\n",
        "        elif char == '*':\n",
        "            asterisks.append(i)\n",
        "        else:\n",
        "            if stack:\n",
        "                stack.pop()\n",
        "            elif asterisks:\n",
        "                asterisks.pop()\n",
        "            else:\n",
        "                return False\n",
        "\n",
        "    while stack and asterisks:\n",
        "        if stack[-1] > asterisks[-1]:\n",
        "            return False\n",
        "        stack.pop()\n",
        "        asterisks.pop()\n",
        "\n",
        "    return len(stack) == 0\n",
        "\n",
        "# Example usage:\n",
        "s = \"()\"\n",
        "print(check_valid_string(s))\n"
      ],
      "metadata": {
        "colab": {
          "base_uri": "https://localhost:8080/"
        },
        "id": "26fk0FHiK0kt",
        "outputId": "293e3521-11c1-4a0e-f2c9-8415cec7fddb"
      },
      "execution_count": 2,
      "outputs": [
        {
          "output_type": "stream",
          "name": "stdout",
          "text": [
            "True\n"
          ]
        }
      ]
    },
    {
      "cell_type": "markdown",
      "source": [
        "Given two strings word1 and word2, return *the minimum number of **steps** required to make* word1 *and* word2 *the same*.\n",
        "\n",
        "In one **step**, you can delete exactly one character in either string.\n",
        "\n",
        "**Example 1:**\n",
        "\n",
        "**Input:** word1 = \"sea\", word2 = \"eat\"\n",
        "\n",
        "**Output:** 2\n",
        "\n",
        "**Explanation:** You need one step to make \"sea\" to \"ea\" and another step to make \"eat\" to \"ea\"."
      ],
      "metadata": {
        "id": "bXPGnlQyK0wx"
      }
    },
    {
      "cell_type": "code",
      "source": [
        "def min_steps_to_same(word1, word2):\n",
        "    m, n = len(word1), len(word2)\n",
        "\n",
        "    # Create a 2D DP table to store the lengths of LCS\n",
        "    dp = [[0] * (n + 1) for _ in range(m + 1)]\n",
        "\n",
        "    # Fill the DP table\n",
        "    for i in range(1, m + 1):\n",
        "        for j in range(1, n + 1):\n",
        "            if word1[i - 1] == word2[j - 1]:\n",
        "                dp[i][j] = dp[i - 1][j - 1] + 1\n",
        "            else:\n",
        "                dp[i][j] = max(dp[i - 1][j], dp[i][j - 1])\n",
        "\n",
        "    # Calculate the number of steps required\n",
        "    steps = m + n - 2 * dp[m][n]\n",
        "\n",
        "    return steps\n",
        "\n",
        "# Example usage:\n",
        "word1 = \"sea\"\n",
        "word2 = \"eat\"\n",
        "print(min_steps_to_same(word1, word2))\n"
      ],
      "metadata": {
        "colab": {
          "base_uri": "https://localhost:8080/"
        },
        "id": "9yBL8a7IK09h",
        "outputId": "0ba7ffd5-edc2-446a-e3ba-6e98f11e7a1a"
      },
      "execution_count": 3,
      "outputs": [
        {
          "output_type": "stream",
          "name": "stdout",
          "text": [
            "2\n"
          ]
        }
      ]
    },
    {
      "cell_type": "markdown",
      "source": [
        "You need to construct a binary tree from a string consisting of parenthesis and integers.\n",
        "\n",
        "The whole input represents a binary tree. It contains an integer followed by zero, one or two pairs of parenthesis. The integer represents the root's value and a pair of parenthesis contains a child binary tree with the same structure.\n",
        "You always start to construct the **left** child node of the parent first if it exists.\n",
        "**Input:** s = \"4(2(3)(1))(6(5))\"\n",
        "\n",
        "**Output:** [4,2,6,3,1,5]"
      ],
      "metadata": {
        "id": "TiXSSd67K1KZ"
      }
    },
    {
      "cell_type": "code",
      "source": [
        "class TreeNode:\n",
        "    def __init__(self, val=0, left=None, right=None):\n",
        "        self.val = val\n",
        "        self.left = left\n",
        "        self.right = right\n",
        "\n",
        "def construct_tree(s):\n",
        "    if not s:\n",
        "        return None\n",
        "\n",
        "    # Find the first occurrence of '('\n",
        "    i = s.find('(')\n",
        "\n",
        "    if i == -1:\n",
        "        # No left and right child nodes\n",
        "        return TreeNode(int(s))\n",
        "\n",
        "    # Create the root node\n",
        "    root = TreeNode(int(s[:i]))\n",
        "\n",
        "    # Count the number of opening and closing parentheses\n",
        "    count = 0\n",
        "    j = i\n",
        "\n",
        "    while j < len(s):\n",
        "        if s[j] == '(':\n",
        "            count += 1\n",
        "        elif s[j] == ')':\n",
        "            count -= 1\n",
        "\n",
        "        if count == 0:\n",
        "            break\n",
        "\n",
        "        j += 1\n",
        "\n",
        "    # Recursively construct the left and right child nodes\n",
        "    root.left = construct_tree(s[i + 1 : j])\n",
        "    root.right = construct_tree(s[j + 2 : -1])\n",
        "\n",
        "    return root\n",
        "\n",
        "def preorder_traversal(root):\n",
        "    result = []\n",
        "\n",
        "    if root:\n",
        "        result.append(root.val)\n",
        "        result.extend(preorder_traversal(root.left))\n",
        "        result.extend(preorder_traversal(root.right))\n",
        "\n",
        "    return result\n",
        "\n",
        "# Example usage:\n",
        "s = \"4(2(3)(1))(6(5))\"\n",
        "root = construct_tree(s)\n",
        "output = preorder_traversal(root)\n",
        "print(output)\n"
      ],
      "metadata": {
        "colab": {
          "base_uri": "https://localhost:8080/"
        },
        "id": "P0jYDtyiK1Wr",
        "outputId": "a50dc186-90ba-44db-cd31-b373376c9632"
      },
      "execution_count": 4,
      "outputs": [
        {
          "output_type": "stream",
          "name": "stdout",
          "text": [
            "[4, 2, 3, 1, 6, 5]\n"
          ]
        }
      ]
    },
    {
      "cell_type": "markdown",
      "source": [
        "Given an array of characters chars, compress it using the following algorithm:\n",
        "\n",
        "Begin with an empty string s. For each group of **consecutive repeating characters** in chars:\n",
        "\n",
        "- If the group's length is 1, append the character to s.\n",
        "- Otherwise, append the character followed by the group's length.\n",
        "\n",
        "The compressed string s **should not be returned separately**, but instead, be stored **in the input character array chars**. Note that group lengths that are 10 or longer will be split into multiple characters in chars.\n",
        "\n",
        "After you are done **modifying the input array,** return *the new length of the array*.\n",
        "\n",
        "You must write an algorithm that uses only constant extra space.\n",
        "\n",
        "**Example 1:**\n",
        "\n",
        "**Input:** chars = [\"a\",\"a\",\"b\",\"b\",\"c\",\"c\",\"c\"]\n",
        "\n",
        "**Output:** Return 6, and the first 6 characters of the input array should be: [\"a\",\"2\",\"b\",\"2\",\"c\",\"3\"]\n",
        "\n",
        "**Explanation:**\n",
        "\n",
        "The groups are \"aa\", \"bb\", and \"ccc\". This compresses to \"a2b2c3\"."
      ],
      "metadata": {
        "id": "MU24wMpgK1kR"
      }
    },
    {
      "cell_type": "code",
      "source": [
        "def compress(chars):\n",
        "    # Initialize pointers and counter\n",
        "    read_ptr = 0\n",
        "    write_ptr = 0\n",
        "    count = 1\n",
        "\n",
        "    # Iterate over the characters\n",
        "    for i in range(1, len(chars) + 1):\n",
        "        if i < len(chars) and chars[i] == chars[i - 1]:\n",
        "            count += 1\n",
        "        else:\n",
        "            chars[write_ptr] = chars[read_ptr]\n",
        "            write_ptr += 1\n",
        "            if count > 1:\n",
        "                count_str = str(count)\n",
        "                for digit in count_str:\n",
        "                    chars[write_ptr] = digit\n",
        "                    write_ptr += 1\n",
        "            count = 1\n",
        "            read_ptr = i\n",
        "\n",
        "    return write_ptr\n",
        "\n",
        "# Example usage:\n",
        "chars = [\"a\",\"a\",\"b\",\"b\",\"c\",\"c\",\"c\"]\n",
        "new_length = compress(chars)\n",
        "print(new_length)\n",
        "print(chars[:new_length])\n"
      ],
      "metadata": {
        "colab": {
          "base_uri": "https://localhost:8080/"
        },
        "id": "du5J9kn1K1xk",
        "outputId": "5870411f-636f-4744-e8ea-75055d9c3310"
      },
      "execution_count": 5,
      "outputs": [
        {
          "output_type": "stream",
          "name": "stdout",
          "text": [
            "6\n",
            "['a', '2', 'b', '2', 'c', '3']\n"
          ]
        }
      ]
    },
    {
      "cell_type": "markdown",
      "source": [
        "Given two strings s and p, return *an array of all the start indices of* p*'s anagrams in* s. You may return the answer in **any order**.\n",
        "\n",
        "An **Anagram** is a word or phrase formed by rearranging the letters of a different word or phrase, typically using all the original letters exactly once.\n",
        "\n",
        "**Example 1:**\n",
        "\n",
        "**Input:** s = \"cbaebabacd\", p = \"abc\"\n",
        "\n",
        "**Output:** [0,6]\n",
        "\n",
        "**Explanation:**\n",
        "\n",
        "The substring with start index = 0 is \"cba\", which is an anagram of \"abc\".\n",
        "\n",
        "The substring with start index = 6 is \"bac\", which is an anagram of \"abc\"."
      ],
      "metadata": {
        "id": "BgCJD_rWK1-D"
      }
    },
    {
      "cell_type": "code",
      "source": [
        "from collections import Counter\n",
        "\n",
        "def find_anagrams(s, p):\n",
        "    result = []\n",
        "    window_size = len(p)\n",
        "    p_count = Counter(p)\n",
        "    window_count = Counter(s[:window_size])\n",
        "\n",
        "    if window_count == p_count:\n",
        "        result.append(0)\n",
        "\n",
        "    for i in range(1, len(s) - window_size + 1):\n",
        "        # Update the window count\n",
        "        if window_count[s[i - 1]] == 1:\n",
        "            del window_count[s[i - 1]]\n",
        "        else:\n",
        "            window_count[s[i - 1]] -= 1\n",
        "\n",
        "        if s[i + window_size - 1] in window_count:\n",
        "            window_count[s[i + window_size - 1]] += 1\n",
        "        else:\n",
        "            window_count[s[i + window_size - 1]] = 1\n",
        "\n",
        "        # Check if the current window is an anagram of p\n",
        "        if window_count == p_count:\n",
        "            result.append(i)\n",
        "\n",
        "    return result\n",
        "\n",
        "# Example usage:\n",
        "s = \"cbaebabacd\"\n",
        "p = \"abc\"\n",
        "print(find_anagrams(s, p))\n"
      ],
      "metadata": {
        "colab": {
          "base_uri": "https://localhost:8080/"
        },
        "id": "V4jslyPjK2La",
        "outputId": "580a4655-114d-4327-a66c-61142d2f8a3b"
      },
      "execution_count": 6,
      "outputs": [
        {
          "output_type": "stream",
          "name": "stdout",
          "text": [
            "[0, 6]\n"
          ]
        }
      ]
    },
    {
      "cell_type": "markdown",
      "source": [
        "Given an encoded string, return its decoded string.\n",
        "\n",
        "The encoding rule is: k[encoded_string], where the encoded_string inside the square brackets is being repeated exactly k times. Note that k is guaranteed to be a positive integer.\n",
        "\n",
        "You may assume that the input string is always valid; there are no extra white spaces, square brackets are well-formed, etc. Furthermore, you may assume that the original data does not contain any digits and that digits are only for those repeat numbers, k. For example, there will not be input like 3a or 2[4].\n",
        "\n",
        "The test cases are generated so that the length of the output will never exceed 105.\n",
        "\n",
        "**Example 1:**\n",
        "\n",
        "**Input:** s = \"3[a]2[bc]\"\n",
        "\n",
        "**Output:** \"aaabcbc\""
      ],
      "metadata": {
        "id": "JaxegcJ0K2Z6"
      }
    },
    {
      "cell_type": "code",
      "source": [
        "def decode_string(s):\n",
        "    stack = []\n",
        "    curr_str = ''\n",
        "    curr_num = 0\n",
        "\n",
        "    for char in s:\n",
        "        if char.isdigit():\n",
        "            curr_num = curr_num * 10 + int(char)\n",
        "        elif char == '[':\n",
        "            stack.append(curr_str)\n",
        "            stack.append(curr_num)\n",
        "            curr_str = ''\n",
        "            curr_num = 0\n",
        "        elif char == ']':\n",
        "            num = stack.pop()\n",
        "            prev_str = stack.pop()\n",
        "            curr_str = prev_str + num * curr_str\n",
        "        else:\n",
        "            curr_str += char\n",
        "\n",
        "    return curr_str\n",
        "\n",
        "# Example usage:\n",
        "s = \"3[a]2[bc]\"\n",
        "print(decode_string(s))\n"
      ],
      "metadata": {
        "colab": {
          "base_uri": "https://localhost:8080/"
        },
        "id": "gp9nMXKBK2oW",
        "outputId": "228888eb-2af4-40d1-b44c-176230f0dbb9"
      },
      "execution_count": 7,
      "outputs": [
        {
          "output_type": "stream",
          "name": "stdout",
          "text": [
            "aaabcbc\n"
          ]
        }
      ]
    },
    {
      "cell_type": "markdown",
      "source": [
        "Given two strings s and goal, return true *if you can swap two letters in* s *so the result is equal to* goal*, otherwise, return* false*.*\n",
        "\n",
        "Swapping letters is defined as taking two indices i and j (0-indexed) such that i != j and swapping the characters at s[i] and s[j].\n",
        "\n",
        "- For example, swapping at indices 0 and 2 in \"abcd\" results in \"cbad\".\n",
        "\n",
        "**Example 1:**\n",
        "\n",
        "**Input:** s = \"ab\", goal = \"ba\"\n",
        "\n",
        "**Output:** true\n",
        "\n",
        "**Explanation:** You can swap s[0] = 'a' and s[1] = 'b' to get \"ba\", which is equal to goal."
      ],
      "metadata": {
        "id": "P4o0UnwGK23g"
      }
    },
    {
      "cell_type": "code",
      "source": [
        "def buddy_strings(s, goal):\n",
        "    if len(s) != len(goal):\n",
        "        return False\n",
        "\n",
        "    if s == goal:\n",
        "        # Check if there are at least two repeated characters in s\n",
        "        char_count = {}\n",
        "        for char in s:\n",
        "            if char in char_count:\n",
        "                return True\n",
        "            char_count[char] = 1\n",
        "        return False\n",
        "\n",
        "    diff_positions = []\n",
        "    for i in range(len(s)):\n",
        "        if s[i] != goal[i]:\n",
        "            diff_positions.append(i)\n",
        "\n",
        "    return len(diff_positions) == 2 and s[diff_positions[0]] == goal[diff_positions[1]] and s[diff_positions[1]] == goal[diff_positions[0]]\n",
        "\n",
        "# Example usage:\n",
        "s = \"ab\"\n",
        "goal = \"ba\"\n",
        "print(buddy_strings(s, goal))\n"
      ],
      "metadata": {
        "colab": {
          "base_uri": "https://localhost:8080/"
        },
        "id": "qluJGGbSK3FZ",
        "outputId": "d922121e-1519-4809-ddba-04603f6354ff"
      },
      "execution_count": 8,
      "outputs": [
        {
          "output_type": "stream",
          "name": "stdout",
          "text": [
            "True\n"
          ]
        }
      ]
    }
  ]
}