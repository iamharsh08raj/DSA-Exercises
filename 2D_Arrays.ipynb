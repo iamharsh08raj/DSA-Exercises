{
  "nbformat": 4,
  "nbformat_minor": 0,
  "metadata": {
    "colab": {
      "provenance": [],
      "authorship_tag": "ABX9TyP29/qqyBKHONL58v22xyFu",
      "include_colab_link": true
    },
    "kernelspec": {
      "name": "python3",
      "display_name": "Python 3"
    },
    "language_info": {
      "name": "python"
    }
  },
  "cells": [
    {
      "cell_type": "markdown",
      "metadata": {
        "id": "view-in-github",
        "colab_type": "text"
      },
      "source": [
        "<a href=\"https://colab.research.google.com/github/iamharsh08raj/DSA-Exercises/blob/main/2D_Arrays.ipynb\" target=\"_parent\"><img src=\"https://colab.research.google.com/assets/colab-badge.svg\" alt=\"Open In Colab\"/></a>"
      ]
    },
    {
      "cell_type": "markdown",
      "source": [
        "<aside>\n",
        "💡 Given three integer arrays arr1, arr2 and arr3 **sorted** in **strictly increasing** order, return a sorted array of **only** the integers that appeared in **all** three arrays.\n",
        "\n",
        "**Example 1:**\n",
        "\n",
        "Input: arr1 = [1,2,3,4,5], arr2 = [1,2,5,7,9], arr3 = [1,3,4,5,8]\n",
        "\n",
        "Output: [1,5]\n",
        "\n",
        "**Explanation:** Only 1 and 5 appeared in the three arrays.\n",
        "\n",
        "</aside>"
      ],
      "metadata": {
        "id": "nF0LYirV9brd"
      }
    },
    {
      "cell_type": "code",
      "execution_count": 1,
      "metadata": {
        "colab": {
          "base_uri": "https://localhost:8080/"
        },
        "id": "LkrbIuQm9XSV",
        "outputId": "eb3bcdeb-41b4-4b9d-e5af-cba844cd74fa"
      },
      "outputs": [
        {
          "output_type": "stream",
          "name": "stdout",
          "text": [
            "Output: [1, 5]\n"
          ]
        }
      ],
      "source": [
        "def arraysIntersection(arr1, arr2, arr3):\n",
        "    result = []\n",
        "    i, j, k = 0, 0, 0  # Pointers for arr1, arr2, and arr3\n",
        "\n",
        "    while i < len(arr1) and j < len(arr2) and k < len(arr3):\n",
        "        if arr1[i] == arr2[j] == arr3[k]:\n",
        "            result.append(arr1[i])\n",
        "            i += 1\n",
        "            j += 1\n",
        "            k += 1\n",
        "        elif arr1[i] < arr2[j]:\n",
        "            i += 1\n",
        "        elif arr2[j] < arr3[k]:\n",
        "            j += 1\n",
        "        else:\n",
        "            k += 1\n",
        "\n",
        "    return result\n",
        "\n",
        "# Test the function\n",
        "arr1 = [1, 2, 3, 4, 5]\n",
        "arr2 = [1, 2, 5, 7, 9]\n",
        "arr3 = [1, 3, 4, 5, 8]\n",
        "result = arraysIntersection(arr1, arr2, arr3)\n",
        "print(\"Output:\", result)\n"
      ]
    },
    {
      "cell_type": "markdown",
      "source": [
        "Given two **0-indexed** integer arrays nums1 and nums2, return *a list* answer *of size* 2 *where:*\n",
        "\n",
        "- answer[0] *is a list of all **distinct** integers in* nums1 *which are **not** present in* nums2*.*\n",
        "- answer[1] *is a list of all **distinct** integers in* nums2 *which are **not** present in* nums1.\n",
        "\n",
        "**Note** that the integers in the lists may be returned in **any** order.\n",
        "\n",
        "**Example 1:**\n",
        "\n",
        "**Input:** nums1 = [1,2,3], nums2 = [2,4,6]\n",
        "\n",
        "**Output:** [[1,3],[4,6]]\n",
        "\n",
        "**Explanation:**\n",
        "\n",
        "For nums1, nums1[1] = 2 is present at index 0 of nums2, whereas nums1[0] = 1 and nums1[2] = 3 are not present in nums2. Therefore, answer[0] = [1,3].\n",
        "\n",
        "For nums2, nums2[0] = 2 is present at index 1 of nums1, whereas nums2[1] = 4 and nums2[2] = 6 are not present in nums2. Therefore, answer[1] = [4,6]."
      ],
      "metadata": {
        "id": "AZ6kr9b-9dFg"
      }
    },
    {
      "cell_type": "code",
      "source": [
        "def findDisjointArrays(nums1, nums2):\n",
        "    set1 = set(nums1)\n",
        "    set2 = set(nums2)\n",
        "\n",
        "    answer = []\n",
        "    answer.append(list(set1 - set2))\n",
        "    answer.append(list(set2 - set1))\n",
        "\n",
        "    return answer\n",
        "\n",
        "# Test the function\n",
        "nums1 = [1, 2, 3]\n",
        "nums2 = [2, 4, 6]\n",
        "result = findDisjointArrays(nums1, nums2)\n",
        "print(\"Output:\", result)\n"
      ],
      "metadata": {
        "colab": {
          "base_uri": "https://localhost:8080/"
        },
        "id": "WP1ODh5b9dS9",
        "outputId": "20fcbd06-ae64-4f3d-e55a-f4c8266d73f5"
      },
      "execution_count": 2,
      "outputs": [
        {
          "output_type": "stream",
          "name": "stdout",
          "text": [
            "Output: [[1, 3], [4, 6]]\n"
          ]
        }
      ]
    },
    {
      "cell_type": "markdown",
      "source": [
        "<aside>\n",
        "💡 Given a 2D integer array matrix, return *the **transpose** of* matrix.\n",
        "\n",
        "The **transpose** of a matrix is the matrix flipped over its main diagonal, switching the matrix's row and column indices.\n",
        "\n",
        "**Example 1:**\n",
        "\n",
        "Input: matrix = [[1,2,3],[4,5,6],[7,8,9]]\n",
        "\n",
        "Output: [[1,4,7],[2,5,8],[3,6,9]]\n",
        "\n",
        "</aside>"
      ],
      "metadata": {
        "id": "xLJSXnfu9dgv"
      }
    },
    {
      "cell_type": "code",
      "source": [
        "def transpose(matrix):\n",
        "    m, n = len(matrix), len(matrix[0])  # Get the dimensions of the matrix\n",
        "    transpose_matrix = [[0] * m for _ in range(n)]  # Create a new matrix with dimensions n x m\n",
        "\n",
        "    for i in range(m):\n",
        "        for j in range(n):\n",
        "            transpose_matrix[j][i] = matrix[i][j]  # Swap the elements across the main diagonal\n",
        "\n",
        "    return transpose_matrix\n",
        "\n",
        "# Test the function\n",
        "matrix = [[1, 2, 3], [4, 5, 6], [7, 8, 9]]\n",
        "result = transpose(matrix)\n",
        "print(\"Output:\", result)\n"
      ],
      "metadata": {
        "colab": {
          "base_uri": "https://localhost:8080/"
        },
        "id": "5VJ68lIw9dvP",
        "outputId": "cb00f00a-177a-447e-f0bd-9d2a35bb2daf"
      },
      "execution_count": 3,
      "outputs": [
        {
          "output_type": "stream",
          "name": "stdout",
          "text": [
            "Output: [[1, 4, 7], [2, 5, 8], [3, 6, 9]]\n"
          ]
        }
      ]
    },
    {
      "cell_type": "markdown",
      "source": [
        "<aside>\n",
        "💡 Given an integer array nums of 2n integers, group these integers into n pairs (a1, b1), (a2, b2), ..., (an, bn) such that the sum of min(ai, bi) for all i is **maximized**. Return *the maximized sum*.\n",
        "\n",
        "**Example 1:**\n",
        "\n",
        "Input: nums = [1,4,3,2]\n",
        "\n",
        "Output: 4\n",
        "\n",
        "**Explanation:** All possible pairings (ignoring the ordering of elements) are:\n",
        "\n",
        "1. (1, 4), (2, 3) -> min(1, 4) + min(2, 3) = 1 + 2 = 3\n",
        "\n",
        "2. (1, 3), (2, 4) -> min(1, 3) + min(2, 4) = 1 + 2 = 3\n",
        "\n",
        "3. (1, 2), (3, 4) -> min(1, 2) + min(3, 4) = 1 + 3 = 4\n",
        "\n",
        "So the maximum possible sum is 4.\n",
        "\n",
        "</aside>"
      ],
      "metadata": {
        "id": "s1HIY5uc9d9V"
      }
    },
    {
      "cell_type": "code",
      "source": [
        "def arrayPairSum(nums):\n",
        "    nums.sort()  # Sort the array in ascending order\n",
        "    result = 0\n",
        "\n",
        "    for i in range(0, len(nums), 2):\n",
        "        result += nums[i]\n",
        "\n",
        "    return result\n",
        "\n",
        "# Test the function\n",
        "nums = [1, 4, 3, 2]\n",
        "result = arrayPairSum(nums)\n",
        "print(\"Output:\", result)\n"
      ],
      "metadata": {
        "colab": {
          "base_uri": "https://localhost:8080/"
        },
        "id": "VKhccN8x9eMY",
        "outputId": "45c5eecb-cb6a-4db5-986c-96b4a3462a1b"
      },
      "execution_count": 4,
      "outputs": [
        {
          "output_type": "stream",
          "name": "stdout",
          "text": [
            "Output: 4\n"
          ]
        }
      ]
    },
    {
      "cell_type": "markdown",
      "source": [
        "<aside>\n",
        "💡 You have n coins and you want to build a staircase with these coins. The staircase consists of k rows where the ith row has exactly i coins. The last row of the staircase **may be** incomplete.\n",
        "\n",
        "Given the integer n, return *the number of **complete rows** of the staircase you will build*.\n",
        "\n",
        "**Example 1:**\n",
        "\n",
        "**Input:** n = 5\n",
        "\n",
        "**Output:** 2\n",
        "\n",
        "**Explanation:** Because the 3rd row is incomplete, we return 2.\n",
        "\n",
        "</aside>"
      ],
      "metadata": {
        "id": "074iwrZU9fg1"
      }
    },
    {
      "cell_type": "code",
      "source": [
        "def arrangeCoins(n):\n",
        "    left, right = 0, n\n",
        "\n",
        "    while left <= right:\n",
        "        mid = left + (right - left) // 2\n",
        "        coins_needed = (mid * (mid + 1)) // 2\n",
        "\n",
        "        if coins_needed == n:\n",
        "            return mid\n",
        "        elif coins_needed < n:\n",
        "            left = mid + 1\n",
        "        else:\n",
        "            right = mid - 1\n",
        "\n",
        "    return right\n",
        "\n",
        "# Test the function\n",
        "n = 5\n",
        "result = arrangeCoins(n)\n",
        "print(\"Output:\", result)\n"
      ],
      "metadata": {
        "colab": {
          "base_uri": "https://localhost:8080/"
        },
        "id": "sSZbzLhv9fv9",
        "outputId": "90ab096c-84ba-4855-d75c-7d4303538e4f"
      },
      "execution_count": 5,
      "outputs": [
        {
          "output_type": "stream",
          "name": "stdout",
          "text": [
            "Output: 2\n"
          ]
        }
      ]
    },
    {
      "cell_type": "markdown",
      "source": [
        "<aside>\n",
        "💡 Given an integer array nums sorted in **non-decreasing** order, return *an array of **the squares of each number** sorted in non-decreasing order*.\n",
        "\n",
        "**Example 1:**\n",
        "\n",
        "Input: nums = [-4,-1,0,3,10]\n",
        "\n",
        "Output: [0,1,9,16,100]\n",
        "\n",
        "**Explanation:** After squaring, the array becomes [16,1,0,9,100].\n",
        "After sorting, it becomes [0,1,9,16,100]\n",
        "\n",
        "</aside>"
      ],
      "metadata": {
        "id": "XScsKayv9f9c"
      }
    },
    {
      "cell_type": "code",
      "source": [
        "def sortedSquares(nums):\n",
        "    squared = [num ** 2 for num in nums]\n",
        "    squared.sort()\n",
        "    return squared\n",
        "\n",
        "# Test the function\n",
        "nums = [-4, -1, 0, 3, 10]\n",
        "result = sortedSquares(nums)\n",
        "print(\"Output:\", result)\n"
      ],
      "metadata": {
        "colab": {
          "base_uri": "https://localhost:8080/"
        },
        "id": "FQCsjyff9gLu",
        "outputId": "8f692092-bf20-4624-88a9-e1fb810a737b"
      },
      "execution_count": 6,
      "outputs": [
        {
          "output_type": "stream",
          "name": "stdout",
          "text": [
            "Output: [0, 1, 9, 16, 100]\n"
          ]
        }
      ]
    },
    {
      "cell_type": "markdown",
      "source": [
        "<aside>\n",
        "💡 You are given an m x n matrix M initialized with all 0's and an array of operations ops, where ops[i] = [ai, bi] means M[x][y] should be incremented by one for all 0 <= x < ai and 0 <= y < bi.\n",
        "\n",
        "Count and return *the number of maximum integers in the matrix after performing all the operations*\n",
        "\n",
        "**Example 1:**\n",
        "\n",
        "**Input:** m = 3, n = 3, ops = [[2,2],[3,3]]\n",
        "\n",
        "**Output:** 4\n",
        "\n",
        "**Explanation:** The maximum integer in M is 2, and there are four of it in M. So return 4.\n",
        "\n",
        "</aside>"
      ],
      "metadata": {
        "id": "BA7mVcUn9ga5"
      }
    },
    {
      "cell_type": "code",
      "source": [
        "def maxCount(m, n, ops):\n",
        "    min_ai = m  # Initialize min_ai to m\n",
        "    min_bi = n  # Initialize min_bi to n\n",
        "\n",
        "    for op in ops:\n",
        "        min_ai = min(min_ai, op[0])  # Update min_ai with the minimum value of ai\n",
        "        min_bi = min(min_bi, op[1])  # Update min_bi with the minimum value of bi\n",
        "\n",
        "    return min_ai * min_bi  # Return the number of maximum integers in the matrix\n",
        "\n",
        "# Test the function\n",
        "m = 3\n",
        "n = 3\n",
        "ops = [[2, 2], [3, 3]]\n",
        "result = maxCount(m, n, ops)\n",
        "print(\"Output:\", result)\n"
      ],
      "metadata": {
        "colab": {
          "base_uri": "https://localhost:8080/"
        },
        "id": "ZGXVDLYQ9gtG",
        "outputId": "b4740c3a-5397-4275-fdb6-632bcf07ee27"
      },
      "execution_count": 7,
      "outputs": [
        {
          "output_type": "stream",
          "name": "stdout",
          "text": [
            "Output: 4\n"
          ]
        }
      ]
    },
    {
      "cell_type": "markdown",
      "source": [
        "Given the array nums consisting of 2n elements in the form [x1,x2,...,xn,y1,y2,...,yn].\n",
        "\n",
        "*Return the array in the form* [x1,y1,x2,y2,...,xn,yn].\n",
        "\n",
        "**Example 1:**\n",
        "\n",
        "**Input:** nums = [2,5,1,3,4,7], n = 3\n",
        "\n",
        "**Output:** [2,3,5,4,1,7]\n",
        "\n",
        "**Explanation:** Since x1=2, x2=5, x3=1, y1=3, y2=4, y3=7 then the answer is [2,3,5,4,1,7]."
      ],
      "metadata": {
        "id": "wqfoViDG9g68"
      }
    },
    {
      "cell_type": "code",
      "source": [
        "def shuffle(nums, n):\n",
        "    result = []\n",
        "\n",
        "    for i in range(n):\n",
        "        result.append(nums[i])\n",
        "        result.append(nums[i + n])\n",
        "\n",
        "    return result\n",
        "\n",
        "# Test the function\n",
        "nums = [2, 5, 1, 3, 4, 7]\n",
        "n = 3\n",
        "result = shuffle(nums, n)\n",
        "print(\"Output:\", result)\n"
      ],
      "metadata": {
        "colab": {
          "base_uri": "https://localhost:8080/"
        },
        "id": "pXea4WKX9hJ7",
        "outputId": "5e043f2c-9259-4037-cd17-2dc110ad3e7a"
      },
      "execution_count": 8,
      "outputs": [
        {
          "output_type": "stream",
          "name": "stdout",
          "text": [
            "Output: [2, 3, 5, 4, 1, 7]\n"
          ]
        }
      ]
    }
  ]
}