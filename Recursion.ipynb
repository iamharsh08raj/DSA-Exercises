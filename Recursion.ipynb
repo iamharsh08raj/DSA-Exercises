{
  "nbformat": 4,
  "nbformat_minor": 0,
  "metadata": {
    "colab": {
      "provenance": [],
      "authorship_tag": "ABX9TyOB15mojJah/B/Fx3y8y5F4",
      "include_colab_link": true
    },
    "kernelspec": {
      "name": "python3",
      "display_name": "Python 3"
    },
    "language_info": {
      "name": "python"
    }
  },
  "cells": [
    {
      "cell_type": "markdown",
      "metadata": {
        "id": "view-in-github",
        "colab_type": "text"
      },
      "source": [
        "<a href=\"https://colab.research.google.com/github/iamharsh08raj/DSA-Exercises/blob/main/Recursion.ipynb\" target=\"_parent\"><img src=\"https://colab.research.google.com/assets/colab-badge.svg\" alt=\"Open In Colab\"/></a>"
      ]
    },
    {
      "cell_type": "markdown",
      "source": [
        "Given an integer `n`, return *`true` if it is a power of two. Otherwise, return `false`*.\n",
        "\n",
        "An integer `n` is a power of two, if there exists an integer `x` such that `n == 2x`.\n",
        "\n",
        "**Example 1:**\n",
        "Input: n = 1\n",
        "\n",
        "Output: true\n",
        "\n",
        "**Example 2:**\n",
        "Input: n = 16\n",
        "\n",
        "Output: true\n",
        "\n",
        "**Example 3:**\n",
        "Input: n = 3\n",
        "\n",
        "Output: false"
      ],
      "metadata": {
        "id": "ClwJadIoOUQA"
      }
    },
    {
      "cell_type": "code",
      "source": [
        "def is_power_of_two(n):\n",
        "    if n <= 0:\n",
        "        return False\n",
        "    return n & (n - 1) == 0\n",
        "\n",
        "# Example usage:\n",
        "print(is_power_of_two(1))   # Output: True\n",
        "print(is_power_of_two(16))  # Output: True\n",
        "print(is_power_of_two(3))   # Output: False\n"
      ],
      "metadata": {
        "colab": {
          "base_uri": "https://localhost:8080/"
        },
        "id": "81wEGKhEOUck",
        "outputId": "827a6bf3-b993-46d2-c7f3-2405c73c7b6d"
      },
      "execution_count": 1,
      "outputs": [
        {
          "output_type": "stream",
          "name": "stdout",
          "text": [
            "True\n",
            "True\n",
            "False\n"
          ]
        }
      ]
    },
    {
      "cell_type": "markdown",
      "source": [
        "Given a number n, find the sum of the first natural numbers.\n",
        "\n",
        "**Example 1:**\n",
        "\n",
        "Input: n = 3\n",
        "\n",
        "Output: 6\n",
        "\n",
        "**Example 2:**\n",
        "\n",
        "Input  : 5\n",
        "\n",
        "Output : 15"
      ],
      "metadata": {
        "id": "ufLi7ctnOUoe"
      }
    },
    {
      "cell_type": "code",
      "source": [
        "def sum_of_natural_numbers(n):\n",
        "    sum = (n * (n + 1)) // 2\n",
        "    return sum\n",
        "\n",
        "# Example usage:\n",
        "print(sum_of_natural_numbers(3))  # Output: 6\n",
        "print(sum_of_natural_numbers(5))  # Output: 15\n"
      ],
      "metadata": {
        "colab": {
          "base_uri": "https://localhost:8080/"
        },
        "id": "5rskRN7BOU0l",
        "outputId": "59797278-a78f-4684-9859-4e56d06f5bed"
      },
      "execution_count": 2,
      "outputs": [
        {
          "output_type": "stream",
          "name": "stdout",
          "text": [
            "6\n",
            "15\n"
          ]
        }
      ]
    },
    {
      "cell_type": "markdown",
      "source": [
        "Given a positive integer, N. Find the factorial of N.\n",
        "\n",
        "**Example 1:**\n",
        "\n",
        "Input: N = 5\n",
        "\n",
        "Output: 120\n",
        "\n",
        "**Example 2:**\n",
        "\n",
        "Input: N = 4\n",
        "\n",
        "Output: 24"
      ],
      "metadata": {
        "id": "HCpnA8RWOVAL"
      }
    },
    {
      "cell_type": "code",
      "source": [
        "def factorial(N):\n",
        "    result = 1\n",
        "    for i in range(1, N + 1):\n",
        "        result *= i\n",
        "    return result\n",
        "\n",
        "# Example usage:\n",
        "print(factorial(5))  # Output: 120\n",
        "print(factorial(4))  # Output: 24\n"
      ],
      "metadata": {
        "colab": {
          "base_uri": "https://localhost:8080/"
        },
        "id": "BKAB0jjAOVMx",
        "outputId": "fde1811b-d586-4d15-973c-b5da51d90186"
      },
      "execution_count": 3,
      "outputs": [
        {
          "output_type": "stream",
          "name": "stdout",
          "text": [
            "120\n",
            "24\n"
          ]
        }
      ]
    },
    {
      "cell_type": "markdown",
      "source": [
        "Given a number N and a power P, the task is to find the exponent of this number raised to the given power, i.e. N^P.\n",
        "\n",
        "**Example 1 :**\n",
        "\n",
        "Input: N = 5, P = 2\n",
        "\n",
        "Output: 25\n",
        "\n",
        "**Example 2 :**\n",
        "Input: N = 2, P = 5\n",
        "\n",
        "Output: 32"
      ],
      "metadata": {
        "id": "TBvfhDrmOVZH"
      }
    },
    {
      "cell_type": "code",
      "source": [
        "def exponentiation(N, P):\n",
        "    result = N ** P\n",
        "    return result\n",
        "\n",
        "# Example usage:\n",
        "print(exponentiation(5, 2))  # Output: 25\n",
        "print(exponentiation(2, 5))  # Output: 32\n"
      ],
      "metadata": {
        "colab": {
          "base_uri": "https://localhost:8080/"
        },
        "id": "cYJ5zWrJOVl9",
        "outputId": "1030632a-1948-4255-b9ef-b6fe538c64dd"
      },
      "execution_count": 4,
      "outputs": [
        {
          "output_type": "stream",
          "name": "stdout",
          "text": [
            "25\n",
            "32\n"
          ]
        }
      ]
    },
    {
      "cell_type": "markdown",
      "source": [
        "Given an array of integers **arr**, the task is to find maximum element of that array using recursion.\n",
        "\n",
        "**Example 1:**\n",
        "\n",
        "Input: arr = {1, 4, 3, -5, -4, 8, 6};\n",
        "Output: 8\n",
        "\n",
        "**Example 2:**\n",
        "\n",
        "Input: arr = {1, 4, 45, 6, 10, -8};\n",
        "Output: 45"
      ],
      "metadata": {
        "id": "nijZJcpwOV7S"
      }
    },
    {
      "cell_type": "code",
      "source": [
        "def exponentiation(N, P):\n",
        "    result = N ** P\n",
        "    return result\n",
        "\n",
        "# Example usage:\n",
        "print(exponentiation(5, 2))  # Output: 25\n",
        "print(exponentiation(2, 5))  # Output: 32\n"
      ],
      "metadata": {
        "colab": {
          "base_uri": "https://localhost:8080/"
        },
        "id": "IyJvBcXtOWIV",
        "outputId": "80e235c9-7cd7-4583-d1a2-8da2a5098275"
      },
      "execution_count": 6,
      "outputs": [
        {
          "output_type": "stream",
          "name": "stdout",
          "text": [
            "25\n",
            "32\n"
          ]
        }
      ]
    },
    {
      "cell_type": "markdown",
      "source": [
        "Given first term (a), common difference (d) and a integer N of the Arithmetic Progression series, the task is to find Nth term of the series.\n",
        "\n",
        "**Example 1:**\n",
        "\n",
        "Input : a = 2 d = 1 N = 5\n",
        "Output : 6\n",
        "The 5th term of the series is : 6\n",
        "\n",
        "**Example 2:**\n",
        "\n",
        "Input : a = 5 d = 2 N = 10\n",
        "Output : 23\n",
        "The 10th term of the series is : 23"
      ],
      "metadata": {
        "id": "1C8mSafwOWUe"
      }
    },
    {
      "cell_type": "code",
      "source": [
        "def nth_term_of_ap(a, d, N):\n",
        "    nth_term = a + (N - 1) * d\n",
        "    return nth_term\n",
        "\n",
        "# Example usage:\n",
        "print(nth_term_of_ap(2, 1, 5))   # Output: 6\n",
        "print(nth_term_of_ap(5, 2, 10))  # Output: 23\n"
      ],
      "metadata": {
        "colab": {
          "base_uri": "https://localhost:8080/"
        },
        "id": "rDnhV-D0OWhs",
        "outputId": "3c9911b4-cba8-4179-a259-c1413f7a11b0"
      },
      "execution_count": 7,
      "outputs": [
        {
          "output_type": "stream",
          "name": "stdout",
          "text": [
            "6\n",
            "23\n"
          ]
        }
      ]
    },
    {
      "cell_type": "markdown",
      "source": [
        "Given a string S, the task is to write a program to print all permutations of a given string.\n",
        "\n",
        "**Example 1:**\n",
        "\n",
        "***Input:***\n",
        "\n",
        "*S = “ABC”*\n",
        "\n",
        "***Output:***\n",
        "\n",
        "*“ABC”, “ACB”, “BAC”, “BCA”, “CBA”, “CAB”*\n",
        "\n",
        "**Example 2:**\n",
        "\n",
        "***Input:***\n",
        "\n",
        "*S = “XY”*\n",
        "\n",
        "***Output:***\n",
        "\n",
        "*“XY”, “YX”*"
      ],
      "metadata": {
        "id": "ZdkKwyZ1OWt0"
      }
    },
    {
      "cell_type": "code",
      "source": [
        "from itertools import permutations\n",
        "\n",
        "def print_permutations(S):\n",
        "    # Generate all permutations of the string\n",
        "    perms = permutations(S)\n",
        "\n",
        "    # Print each permutation\n",
        "    for perm in perms:\n",
        "        print(\"\".join(perm))\n",
        "\n",
        "# Example usage:\n",
        "print_permutations(\"ABC\")  # Output: ABC, ACB, BAC, BCA, CAB, CBA\n",
        "print_permutations(\"XY\")   # Output: XY, YX\n"
      ],
      "metadata": {
        "colab": {
          "base_uri": "https://localhost:8080/"
        },
        "id": "ZGpeiIzzOW7I",
        "outputId": "c63c0a70-5e3e-4288-9cc6-db1a3abfa6aa"
      },
      "execution_count": 8,
      "outputs": [
        {
          "output_type": "stream",
          "name": "stdout",
          "text": [
            "ABC\n",
            "ACB\n",
            "BAC\n",
            "BCA\n",
            "CAB\n",
            "CBA\n",
            "XY\n",
            "YX\n"
          ]
        }
      ]
    },
    {
      "cell_type": "markdown",
      "source": [
        "<aside>\n",
        "💡 **Question 8**\n",
        "\n",
        "Given an array, find a product of all array elements.\n",
        "\n",
        "**Example 1:**\n",
        "\n",
        "Input  : arr[] = {1, 2, 3, 4, 5}\n",
        "Output : 120\n",
        "**Example 2:**\n",
        "\n",
        "Input  : arr[] = {1, 6, 3}\n",
        "Output : 18\n",
        "\n",
        "</aside>"
      ],
      "metadata": {
        "id": "enp9maH9OXHE"
      }
    },
    {
      "cell_type": "code",
      "source": [
        "def product_of_array(arr):\n",
        "    product = 1\n",
        "    for num in arr:\n",
        "        product *= num\n",
        "    return product\n",
        "\n",
        "# Example usage:\n",
        "print(product_of_array([1, 2, 3, 4, 5]))  # Output: 120\n",
        "print(product_of_array([1, 6, 3]))        # Output: 18\n"
      ],
      "metadata": {
        "colab": {
          "base_uri": "https://localhost:8080/"
        },
        "id": "xDNXpR0LOXTn",
        "outputId": "0b2b868a-8829-45b1-f5c3-4f24a2521695"
      },
      "execution_count": 9,
      "outputs": [
        {
          "output_type": "stream",
          "name": "stdout",
          "text": [
            "120\n",
            "18\n"
          ]
        }
      ]
    }
  ]
}