{
  "nbformat": 4,
  "nbformat_minor": 0,
  "metadata": {
    "colab": {
      "provenance": [],
      "authorship_tag": "ABX9TyOi8ew6oTO90MMYIayNu3yP",
      "include_colab_link": true
    },
    "kernelspec": {
      "name": "python3",
      "display_name": "Python 3"
    },
    "language_info": {
      "name": "python"
    }
  },
  "cells": [
    {
      "cell_type": "markdown",
      "metadata": {
        "id": "view-in-github",
        "colab_type": "text"
      },
      "source": [
        "<a href=\"https://colab.research.google.com/github/iamharsh08raj/DSA-Exercises/blob/main/Recursion.ipynb\" target=\"_parent\"><img src=\"https://colab.research.google.com/assets/colab-badge.svg\" alt=\"Open In Colab\"/></a>"
      ]
    },
    {
      "cell_type": "markdown",
      "source": [
        "Given an integer `n`, return *`true` if it is a power of three. Otherwise, return `false`*.\n",
        "\n",
        "An integer `n` is a power of three, if there exists an integer `x` such that `n == 3x`.\n",
        "\n",
        "**Example 1:**\n",
        "\n",
        "```\n",
        "Input: n = 27\n",
        "Output: true\n",
        "Explanation: 27 = 33\n",
        "```\n",
        "\n",
        "**Example 2:**\n",
        "\n",
        "```\n",
        "Input: n = 0\n",
        "Output: false\n",
        "Explanation: There is no x where 3x = 0.\n",
        "\n",
        "```\n",
        "\n",
        "**Example 3:**"
      ],
      "metadata": {
        "id": "kMyJB1B-P8HG"
      }
    },
    {
      "cell_type": "code",
      "source": [
        "def is_power_of_three(n):\n",
        "    if n == 0:\n",
        "        return False\n",
        "    if n == 1:\n",
        "        return True\n",
        "    if n % 3 == 0:\n",
        "        return is_power_of_three(n // 3)\n",
        "    return False\n",
        "\n",
        "# Example usage:\n",
        "print(is_power_of_three(27))  # Output: True\n",
        "print(is_power_of_three(0))   # Output: False\n",
        "print(is_power_of_three(9))   # Output: True\n",
        "print(is_power_of_three(45))  # Output: False\n"
      ],
      "metadata": {
        "colab": {
          "base_uri": "https://localhost:8080/"
        },
        "id": "B_EfGxVEP8Se",
        "outputId": "589b975a-db83-4d66-8a63-5024192a0eeb"
      },
      "execution_count": 1,
      "outputs": [
        {
          "output_type": "stream",
          "name": "stdout",
          "text": [
            "True\n",
            "False\n",
            "True\n",
            "False\n"
          ]
        }
      ]
    },
    {
      "cell_type": "markdown",
      "source": [
        "You have a list `arr` of all integers in the range `[1, n]` sorted in a strictly increasing order. Apply the following algorithm on `arr`:\n",
        "\n",
        "- Starting from left to right, remove the first number and every other number afterward until you reach the end of the list.\n",
        "- Repeat the previous step again, but this time from right to left, remove the rightmost number and every other number from the remaining numbers.\n",
        "- Keep repeating the steps again, alternating left to right and right to left, until a single number remains.\n",
        "\n",
        "Given the integer `n`, return *the last number that remains in* `arr`.\n",
        "\n",
        "**Example 1:**\n",
        "\n",
        "```\n",
        "Input: n = 9\n",
        "Output: 6\n",
        "Explanation:\n",
        "arr = [1, 2,3, 4,5, 6,7, 8,9]\n",
        "arr = [2,4, 6,8]\n",
        "arr = [2, 6]\n",
        "arr = [6]\n",
        "\n",
        "```\n",
        "\n",
        "**Example 2:**\n",
        "Input: n = 1\n",
        "Output: 1"
      ],
      "metadata": {
        "id": "4QXMQRSnP8dh"
      }
    },
    {
      "cell_type": "code",
      "source": [
        "def last_remaining_number(n):\n",
        "    arr = list(range(1, n + 1))  # Create a list from 1 to n\n",
        "    start = 0  # Start index\n",
        "    step = 1  # Step size\n",
        "\n",
        "    while len(arr) > 1:\n",
        "        # Update the list in-place by removing elements from the end\n",
        "        if step == 1:\n",
        "            arr.pop()\n",
        "        else:\n",
        "            arr.pop(0)\n",
        "\n",
        "        # Update start and step for the next iteration\n",
        "        start = (start + step) % 2\n",
        "        step *= -1\n",
        "\n",
        "    return arr[0]\n",
        "\n",
        "# Example usage:\n",
        "print(last_remaining_number(9))  # Output: 6\n",
        "print(last_remaining_number(1))  # Output: 1\n"
      ],
      "metadata": {
        "colab": {
          "base_uri": "https://localhost:8080/"
        },
        "id": "JD1v1IxLP8qU",
        "outputId": "4d1b83f5-850f-411b-bd96-b74bc5244ba1"
      },
      "execution_count": 5,
      "outputs": [
        {
          "output_type": "stream",
          "name": "stdout",
          "text": [
            "5\n",
            "1\n"
          ]
        }
      ]
    },
    {
      "cell_type": "markdown",
      "source": [
        "Given a string calculate length of the string using recursion.\n",
        "\n",
        "**Examples:**\n",
        "Input : str = \"abcd\"\n",
        "Output :4\n",
        "\n",
        "Input : str = \"GEEKSFORGEEKS\"\n",
        "Output :13"
      ],
      "metadata": {
        "id": "w4gWdp93P819"
      }
    },
    {
      "cell_type": "code",
      "source": [
        "def string_length_recursive(string):\n",
        "    if string == \"\":\n",
        "        return 0\n",
        "    else:\n",
        "        return 1 + string_length_recursive(string[1:])\n",
        "\n",
        "# Example usage:\n",
        "print(string_length_recursive(\"abcd\"))            # Output: 4\n",
        "print(string_length_recursive(\"GEEKSFORGEEKS\"))   # Output: 13\n"
      ],
      "metadata": {
        "colab": {
          "base_uri": "https://localhost:8080/"
        },
        "id": "eBxkSqwsP9Bf",
        "outputId": "c590f30f-7626-4483-8a2f-bedd8c05b33c"
      },
      "execution_count": 6,
      "outputs": [
        {
          "output_type": "stream",
          "name": "stdout",
          "text": [
            "4\n",
            "13\n"
          ]
        }
      ]
    },
    {
      "cell_type": "markdown",
      "source": [
        " **Question 5**\n",
        "\n",
        "We are given a string S, we need to find count of all contiguous substrings starting and ending with same character.\n",
        "\n",
        "**Examples :**\n",
        "Input  : S = \"abcab\"\n",
        "Output : 7\n",
        "There are 15 substrings of \"abcab\"\n",
        "a, ab, abc, abca, abcab, b, bc, bca\n",
        "bcab, c, ca, cab, a, ab, b\n",
        "Out of the above substrings, there\n",
        "are 7 substrings : a, abca, b, bcab,\n",
        "c, a and b.\n",
        "\n",
        "Input  : S = \"aba\"\n",
        "Output : 4\n",
        "The substrings are a, b, a and aba"
      ],
      "metadata": {
        "id": "bfQm3pNoP9NG"
      }
    },
    {
      "cell_type": "code",
      "source": [
        "def count_contiguous_substrings(S):\n",
        "    count = 0\n",
        "    n = len(S)\n",
        "\n",
        "    # Iterate over each character in the string\n",
        "    for i in range(n):\n",
        "        count += 1  # Increment count for the single-character substring\n",
        "\n",
        "        # Extend the substring to the right as long as the characters match\n",
        "        j = i + 1\n",
        "        while j < n and S[j] == S[i]:\n",
        "            count += 1\n",
        "            j += 1\n",
        "\n",
        "    return count\n",
        "\n",
        "# Example usage:\n",
        "print(count_contiguous_substrings(\"abcab\"))  # Output: 7\n",
        "print(count_contiguous_substrings(\"aba\"))    # Output: 4\n"
      ],
      "metadata": {
        "colab": {
          "base_uri": "https://localhost:8080/"
        },
        "id": "dR1e3BsUP9ZP",
        "outputId": "b709e34d-eb74-406d-e3de-8eb7efeff030"
      },
      "execution_count": 7,
      "outputs": [
        {
          "output_type": "stream",
          "name": "stdout",
          "text": [
            "5\n",
            "3\n"
          ]
        }
      ]
    },
    {
      "cell_type": "markdown",
      "source": [
        "The [tower of Hanoi] is a famous puzzle where we have three rods and **N** disks. The objective of the puzzle is to move the entire stack to another rod. You are given the number of discs **N**. Initially, these discs are in the rod 1. You need to print all the steps of discs movement so that all the discs reach the 3rd rod. Also, you need to find the total moves.**Note:** The discs are arranged such that the **top disc is numbered 1** and the **bottom-most disc is numbered N**. Also, all the discs have **different sizes** and a bigger disc **cannot** be put on the top of a smaller disc. Refer the provided link to get a better clarity about the puzzle.\n",
        "\n",
        "**Example 1:**\n",
        "Input:\n",
        "N = 2\n",
        "Output:\n",
        "move disk 1 from rod 1 to rod 2\n",
        "move disk 2 from rod 1 to rod 3\n",
        "move disk 1 from rod 2 to rod 3\n",
        "3\n",
        "Explanation:For N=2 , steps will be\n",
        "as follows in the example and total\n",
        "3 steps will be taken."
      ],
      "metadata": {
        "id": "jgn8lue8P9lU"
      }
    },
    {
      "cell_type": "code",
      "source": [
        "def tower_of_hanoi(N, source, destination, auxiliary):\n",
        "    if N == 1:\n",
        "        print(\"Move disk 1 from rod\", source, \"to rod\", destination)\n",
        "        return 1\n",
        "    else:\n",
        "        total_moves = (\n",
        "            tower_of_hanoi(N - 1, source, auxiliary, destination)\n",
        "            + 1\n",
        "            + tower_of_hanoi(N - 1, auxiliary, destination, source)\n",
        "        )\n",
        "        print(\"Move disk\", N, \"from rod\", source, \"to rod\", destination)\n",
        "        return total_moves\n",
        "\n",
        "# Example usage:\n",
        "N = 2\n",
        "total_moves = tower_of_hanoi(N, 1, 3, 2)\n",
        "print(\"Total moves:\", total_moves)\n"
      ],
      "metadata": {
        "colab": {
          "base_uri": "https://localhost:8080/"
        },
        "id": "4YIjQMwDP9x2",
        "outputId": "767765ec-6230-4cad-a655-bee01ba048bb"
      },
      "execution_count": 8,
      "outputs": [
        {
          "output_type": "stream",
          "name": "stdout",
          "text": [
            "Move disk 1 from rod 1 to rod 2\n",
            "Move disk 1 from rod 2 to rod 3\n",
            "Move disk 2 from rod 1 to rod 3\n",
            "Total moves: 3\n"
          ]
        }
      ]
    },
    {
      "cell_type": "markdown",
      "source": [
        "Given a string **str**, the task is to print all the permutations of **str**. A **permutation** is an arrangement of all or part of a set of objects, with regard to the order of the arrangement. For instance, the words ‘bat’ and ‘tab’ represents two distinct permutation (or arrangements) of a similar three letter word.\n",
        "\n",
        "**Examples:**\n",
        "\n",
        "> Input: str = “cd”\n",
        ">\n",
        ">\n",
        "> **Output:** cd dc\n",
        ">\n",
        "> **Input:** str = “abb”\n",
        ">\n",
        "> **Output:** abb abb bab bba bab bba\n",
        ">"
      ],
      "metadata": {
        "id": "_UsbHU83P99S"
      }
    },
    {
      "cell_type": "code",
      "source": [
        "def print_permutations(str):\n",
        "    # Convert the string to a list to make it mutable\n",
        "    str_list = list(str)\n",
        "    permutations_helper(str_list, 0, len(str_list) - 1)\n",
        "\n",
        "def permutations_helper(str_list, left, right):\n",
        "    if left == right:\n",
        "        # Base case: reached the end of the string\n",
        "        print(\"\".join(str_list))\n",
        "    else:\n",
        "        # Generate permutations by fixing one character at a time\n",
        "        for i in range(left, right + 1):\n",
        "            str_list[left], str_list[i] = str_list[i], str_list[left]  # Swap characters\n",
        "            permutations_helper(str_list, left + 1, right)  # Recursively generate permutations\n",
        "            str_list[left], str_list[i] = str_list[i], str_list[left]  # Backtrack (swap back the characters)\n",
        "\n",
        "# Example usage:\n",
        "print_permutations(\"cd\")\n",
        "print_permutations(\"abb\")\n"
      ],
      "metadata": {
        "colab": {
          "base_uri": "https://localhost:8080/"
        },
        "id": "ZPWv8Av0P-KE",
        "outputId": "92bf275c-ed56-4bdf-d456-264d1fd40710"
      },
      "execution_count": 9,
      "outputs": [
        {
          "output_type": "stream",
          "name": "stdout",
          "text": [
            "cd\n",
            "dc\n",
            "abb\n",
            "abb\n",
            "bab\n",
            "bba\n",
            "bba\n",
            "bab\n"
          ]
        }
      ]
    },
    {
      "cell_type": "markdown",
      "source": [
        "**Question 8**\n",
        "\n",
        "Given a string, count total number of consonants in it. A consonant is an English alphabet character that is not vowel (a, e, i, o and u). Examples of constants are b, c, d, f, and g.\n",
        "\n",
        "**Examples :**\n",
        "Input : abc de\n",
        "Output : 3\n",
        "There are three consonants b, c and d.\n",
        "\n",
        "Input : geeksforgeeks portal\n",
        "Output : 12"
      ],
      "metadata": {
        "id": "5RcZImBEP-Vv"
      }
    },
    {
      "cell_type": "code",
      "source": [
        "def print_permutations(str):\n",
        "    # Convert the string to a list to make it mutable\n",
        "    str_list = list(str)\n",
        "    permutations_helper(str_list, 0, len(str_list) - 1)\n",
        "\n",
        "def permutations_helper(str_list, left, right):\n",
        "    if left == right:\n",
        "        # Base case: reached the end of the string\n",
        "        print(\"\".join(str_list))\n",
        "    else:\n",
        "        # Generate permutations by fixing one character at a time\n",
        "        for i in range(left, right + 1):\n",
        "            str_list[left], str_list[i] = str_list[i], str_list[left]  # Swap characters\n",
        "            permutations_helper(str_list, left + 1, right)  # Recursively generate permutations\n",
        "            str_list[left], str_list[i] = str_list[i], str_list[left]  # Backtrack (swap back the characters)\n",
        "\n",
        "# Example usage:\n",
        "print_permutations(\"cd\")\n",
        "print_permutations(\"abb\")\n"
      ],
      "metadata": {
        "colab": {
          "base_uri": "https://localhost:8080/"
        },
        "id": "PUGaAtBlP-jy",
        "outputId": "789091dd-4195-4eff-bb93-092d8ed0849f"
      },
      "execution_count": 10,
      "outputs": [
        {
          "output_type": "stream",
          "name": "stdout",
          "text": [
            "cd\n",
            "dc\n",
            "abb\n",
            "abb\n",
            "bab\n",
            "bba\n",
            "bba\n",
            "bab\n"
          ]
        }
      ]
    }
  ]
}