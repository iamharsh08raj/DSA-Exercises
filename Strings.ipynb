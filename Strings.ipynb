{
  "nbformat": 4,
  "nbformat_minor": 0,
  "metadata": {
    "colab": {
      "provenance": [],
      "authorship_tag": "ABX9TyM65MhjENgzGNl6H08LuTJX",
      "include_colab_link": true
    },
    "kernelspec": {
      "name": "python3",
      "display_name": "Python 3"
    },
    "language_info": {
      "name": "python"
    }
  },
  "cells": [
    {
      "cell_type": "markdown",
      "metadata": {
        "id": "view-in-github",
        "colab_type": "text"
      },
      "source": [
        "<a href=\"https://colab.research.google.com/github/iamharsh08raj/DSA-Exercises/blob/main/Strings.ipynb\" target=\"_parent\"><img src=\"https://colab.research.google.com/assets/colab-badge.svg\" alt=\"Open In Colab\"/></a>"
      ]
    },
    {
      "cell_type": "markdown",
      "source": [
        "Given two strings s and t, *determine if they are isomorphic*.\n",
        "\n",
        "Two strings s and t are isomorphic if the characters in s can be replaced to get t.\n",
        "\n",
        "All occurrences of a character must be replaced with another character while preserving the order of characters. No two characters may map to the same character, but a character may map to itself.\n",
        "\n",
        "**Example 1:**\n",
        "\n",
        "**Input:** s = \"egg\", t = \"add\"\n",
        "\n",
        "**Output:** true"
      ],
      "metadata": {
        "id": "rVkfEB91IURF"
      }
    },
    {
      "cell_type": "code",
      "source": [
        "def isomorphic_strings(s, t):\n",
        "    if len(s) != len(t):\n",
        "        return False\n",
        "\n",
        "    s_to_t = {}\n",
        "    t_to_s = {}\n",
        "\n",
        "    for i in range(len(s)):\n",
        "        char_s = s[i]\n",
        "        char_t = t[i]\n",
        "\n",
        "        if char_s in s_to_t:\n",
        "            if s_to_t[char_s] != char_t:\n",
        "                return False\n",
        "        else:\n",
        "            s_to_t[char_s] = char_t\n",
        "\n",
        "        if char_t in t_to_s:\n",
        "            if t_to_s[char_t] != char_s:\n",
        "                return False\n",
        "        else:\n",
        "            t_to_s[char_t] = char_s\n",
        "\n",
        "    return True\n",
        "\n",
        "# Example usage:\n",
        "s = \"egg\"\n",
        "t = \"add\"\n",
        "print(isomorphic_strings(s, t))\n"
      ],
      "metadata": {
        "colab": {
          "base_uri": "https://localhost:8080/"
        },
        "id": "g3CXsXagIUfD",
        "outputId": "9055c0a8-328d-48f5-ddb5-d743b3cc98f1"
      },
      "execution_count": 1,
      "outputs": [
        {
          "output_type": "stream",
          "name": "stdout",
          "text": [
            "True\n"
          ]
        }
      ]
    },
    {
      "cell_type": "markdown",
      "source": [
        "Given a string num which represents an integer, return true *if* num *is a **strobogrammatic number***.\n",
        "\n",
        "A **strobogrammatic number** is a number that looks the same when rotated 180 degrees (looked at upside down).\n",
        "\n",
        "**Example 1:**\n",
        "\n",
        "**Input:** num = \"69\"\n",
        "\n",
        "**Output:**\n",
        "\n",
        "true"
      ],
      "metadata": {
        "id": "u2BjTERyIUsS"
      }
    },
    {
      "cell_type": "code",
      "source": [
        "def is_strobogrammatic(num):\n",
        "    strob_map = {'0': '0', '1': '1', '6': '9', '8': '8', '9': '6'}\n",
        "    rotated_num = ''\n",
        "\n",
        "    for digit in num:\n",
        "        if digit not in strob_map:\n",
        "            return False\n",
        "        rotated_num = strob_map[digit] + rotated_num\n",
        "\n",
        "    return rotated_num == num\n",
        "\n",
        "# Example usage:\n",
        "num = \"69\"\n",
        "print(is_strobogrammatic(num))\n"
      ],
      "metadata": {
        "colab": {
          "base_uri": "https://localhost:8080/"
        },
        "id": "PFFyQv8yIU5I",
        "outputId": "07600687-fdba-4472-d06a-3fa3ef29b1cc"
      },
      "execution_count": 2,
      "outputs": [
        {
          "output_type": "stream",
          "name": "stdout",
          "text": [
            "True\n"
          ]
        }
      ]
    },
    {
      "cell_type": "markdown",
      "source": [
        "Given two non-negative integers, num1 and num2 represented as string, return *the sum of* num1 *and* num2 *as a string*.\n",
        "\n",
        "You must solve the problem without using any built-in library for handling large integers (such as BigInteger). You must also not convert the inputs to integers directly.\n",
        "\n",
        "**Example 1:**\n",
        "\n",
        "**Input:** num1 = \"11\", num2 = \"123\"\n",
        "\n",
        "**Output:**\n",
        "\n",
        "\"134\""
      ],
      "metadata": {
        "id": "5-xMxG8dIVFt"
      }
    },
    {
      "cell_type": "code",
      "source": [
        "def add_strings(num1, num2):\n",
        "    # Reverse the input strings to start from the least significant digit\n",
        "    num1 = num1[::-1]\n",
        "    num2 = num2[::-1]\n",
        "\n",
        "    # Ensure num1 is longer or equal in length to num2\n",
        "    if len(num1) < len(num2):\n",
        "        num1, num2 = num2, num1\n",
        "\n",
        "    # Perform addition digit by digit\n",
        "    result = []\n",
        "    carry = 0\n",
        "    for i in range(len(num1)):\n",
        "        digit1 = int(num1[i])\n",
        "        digit2 = int(num2[i]) if i < len(num2) else 0\n",
        "\n",
        "        # Compute the sum of digits and the carry\n",
        "        total = digit1 + digit2 + carry\n",
        "        digit = total % 10\n",
        "        carry = total // 10\n",
        "\n",
        "        # Add the current digit to the result\n",
        "        result.append(str(digit))\n",
        "\n",
        "    # If there is a remaining carry, add it to the result\n",
        "    if carry > 0:\n",
        "        result.append(str(carry))\n",
        "\n",
        "    # Reverse the result and convert it to a string\n",
        "    result = ''.join(result[::-1])\n",
        "\n",
        "    return result\n",
        "\n",
        "# Example usage:\n",
        "num1 = \"11\"\n",
        "num2 = \"123\"\n",
        "print(add_strings(num1, num2))\n"
      ],
      "metadata": {
        "colab": {
          "base_uri": "https://localhost:8080/"
        },
        "id": "hIMihqwNIVTw",
        "outputId": "6b83862a-44ae-4c99-df75-002ef2c46a1a"
      },
      "execution_count": 3,
      "outputs": [
        {
          "output_type": "stream",
          "name": "stdout",
          "text": [
            "134\n"
          ]
        }
      ]
    },
    {
      "cell_type": "markdown",
      "source": [
        "Given a string s, reverse the order of characters in each word within a sentence while still preserving whitespace and initial word order.\n",
        "\n",
        "**Example 1:**\n",
        "\n",
        "**Input:** s = \"Let's take LeetCode contest\"\n",
        "\n",
        "**Output:** \"s'teL ekat edoCteeL tsetnoc\""
      ],
      "metadata": {
        "id": "BYTyzZQUIVfz"
      }
    },
    {
      "cell_type": "code",
      "source": [
        "def reverse_words(s):\n",
        "    # Split the sentence into words\n",
        "    words = s.split()\n",
        "\n",
        "    # Reverse each word\n",
        "    reversed_words = [word[::-1] for word in words]\n",
        "\n",
        "    # Join the reversed words back into a sentence\n",
        "    reversed_sentence = ' '.join(reversed_words)\n",
        "\n",
        "    return reversed_sentence\n",
        "\n",
        "# Example usage:\n",
        "s = \"Let's take LeetCode contest\"\n",
        "print(reverse_words(s))\n"
      ],
      "metadata": {
        "colab": {
          "base_uri": "https://localhost:8080/"
        },
        "id": "raIWf8hPIVtV",
        "outputId": "0d896e4c-bbdf-46d2-b53e-04ab2023e655"
      },
      "execution_count": 4,
      "outputs": [
        {
          "output_type": "stream",
          "name": "stdout",
          "text": [
            "s'teL ekat edoCteeL tsetnoc\n"
          ]
        }
      ]
    },
    {
      "cell_type": "markdown",
      "source": [
        "Given a string s and an integer k, reverse the first k characters for every 2k characters counting from the start of the string.\n",
        "\n",
        "If there are fewer than k characters left, reverse all of them. If there are less than 2k but greater than or equal to k characters, then reverse the first k characters and leave the other as original.\n",
        "\n",
        "**Example 1:**\n",
        "\n",
        "**Input:** s = \"abcdefg\", k = 2\n",
        "\n",
        "**Output:**\n",
        "\n",
        "\"bacdfeg\""
      ],
      "metadata": {
        "id": "SK7lpp0oIXOo"
      }
    },
    {
      "cell_type": "code",
      "source": [
        "def reverse_str(s, k):\n",
        "    chars = list(s)  # Convert the string to a list of characters\n",
        "\n",
        "    for i in range(0, len(chars), 2 * k):\n",
        "        start = i\n",
        "        end = min(i + k, len(chars))  # End index for reversing the first k characters\n",
        "\n",
        "        # Reverse the first k characters\n",
        "        chars[start:end] = reversed(chars[start:end])\n",
        "\n",
        "    return ''.join(chars)\n",
        "\n",
        "# Example usage:\n",
        "s = \"abcdefg\"\n",
        "k = 2\n",
        "print(reverse_str(s, k))\n"
      ],
      "metadata": {
        "colab": {
          "base_uri": "https://localhost:8080/"
        },
        "id": "JHDZj56KIXb7",
        "outputId": "9c245789-35f4-4a59-f5cd-5e865ef2d567"
      },
      "execution_count": 5,
      "outputs": [
        {
          "output_type": "stream",
          "name": "stdout",
          "text": [
            "bacdfeg\n"
          ]
        }
      ]
    },
    {
      "cell_type": "markdown",
      "source": [
        "Given two strings s and goal, return true *if and only if* s *can become* goal *after some number of **shifts** on* s.\n",
        "\n",
        "A **shift** on s consists of moving the leftmost character of s to the rightmost position.\n",
        "\n",
        "- For example, if s = \"abcde\", then it will be \"bcdea\" after one shift.\n",
        "\n",
        "**Example 1:**\n",
        "\n",
        "**Input:** s = \"abcde\", goal = \"cdeab\"\n",
        "\n",
        "**Output:**\n",
        "\n",
        "true"
      ],
      "metadata": {
        "id": "3L0gPPWrIXp9"
      }
    },
    {
      "cell_type": "code",
      "source": [
        "def rotate_string(s, goal):\n",
        "    if len(s) != len(goal):\n",
        "        return False\n",
        "\n",
        "    rotated = s + s  # Concatenate s with itself\n",
        "    return goal in rotated\n",
        "\n",
        "# Example usage:\n",
        "s = \"abcde\"\n",
        "goal = \"cdeab\"\n",
        "print(rotate_string(s, goal))\n"
      ],
      "metadata": {
        "colab": {
          "base_uri": "https://localhost:8080/"
        },
        "id": "bwR4BfrSIX3P",
        "outputId": "cf85ce15-2047-4021-c814-84f6223c1931"
      },
      "execution_count": 6,
      "outputs": [
        {
          "output_type": "stream",
          "name": "stdout",
          "text": [
            "True\n"
          ]
        }
      ]
    },
    {
      "cell_type": "markdown",
      "source": [
        "Given two strings s and t, return true *if they are equal when both are typed into empty text editors*. '#' means a backspace character.\n",
        "\n",
        "Note that after backspacing an empty text, the text will continue empty.\n",
        "\n",
        "**Example 1:**\n",
        "\n",
        "**Input:** s = \"ab#c\", t = \"ad#c\"\n",
        "\n",
        "**Output:** true\n",
        "\n",
        "**Explanation:**\n",
        "\n",
        "Both s and t become \"ac\"."
      ],
      "metadata": {
        "id": "RGpemP8LIYFd"
      }
    },
    {
      "cell_type": "code",
      "source": [
        "def process_string(s):\n",
        "    stack = []\n",
        "\n",
        "    for char in s:\n",
        "        if char != '#':\n",
        "            stack.append(char)\n",
        "        elif stack:\n",
        "            stack.pop()\n",
        "\n",
        "    return ''.join(stack)\n",
        "\n",
        "def backspace_compare(s, t):\n",
        "    return process_string(s) == process_string(t)\n",
        "\n",
        "# Example usage:\n",
        "s = \"ab#c\"\n",
        "t = \"ad#c\"\n",
        "print(backspace_compare(s, t))\n"
      ],
      "metadata": {
        "colab": {
          "base_uri": "https://localhost:8080/"
        },
        "id": "0H7J2dcsIYTx",
        "outputId": "c9bddd53-0490-4b69-fdc8-c0a034468463"
      },
      "execution_count": 7,
      "outputs": [
        {
          "output_type": "stream",
          "name": "stdout",
          "text": [
            "True\n"
          ]
        }
      ]
    },
    {
      "cell_type": "markdown",
      "source": [
        "You are given an array coordinates, coordinates[i] = [x, y], where [x, y] represents the coordinate of a point. Check if these points make a straight line in the XY plane.\n",
        "\n",
        "**Example 1:**\n",
        "**Input:** coordinates = [[1,2],[2,3],[3,4],[4,5],[5,6],[6,7]]\n",
        "\n",
        "**Output:** true"
      ],
      "metadata": {
        "id": "ZrPtiEzbIaff"
      }
    },
    {
      "cell_type": "code",
      "source": [
        "def check_straight_line(coordinates):\n",
        "    x0, y0 = coordinates[0]\n",
        "    x1, y1 = coordinates[1]\n",
        "\n",
        "    for i in range(2, len(coordinates)):\n",
        "        x, y = coordinates[i]\n",
        "\n",
        "        # Calculate the slope between (x0, y0) and (x, y)\n",
        "        # Check if the slope is equal to the slope between (x0, y0) and (x1, y1)\n",
        "        if (y1 - y0) * (x - x0) != (y - y0) * (x1 - x0):\n",
        "            return False\n",
        "\n",
        "    return True\n",
        "\n",
        "# Example usage:\n",
        "coordinates = [[1,2],[2,3],[3,4],[4,5],[5,6],[6,7]]\n",
        "print(check_straight_line(coordinates))\n"
      ],
      "metadata": {
        "colab": {
          "base_uri": "https://localhost:8080/"
        },
        "id": "GLk3JlvpIatv",
        "outputId": "8d986242-98aa-4969-9ccc-a6ca9590118c"
      },
      "execution_count": 8,
      "outputs": [
        {
          "output_type": "stream",
          "name": "stdout",
          "text": [
            "True\n"
          ]
        }
      ]
    }
  ]
}